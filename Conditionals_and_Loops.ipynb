{
  "cells": [
    {
      "cell_type": "markdown",
      "source": [
        "## Conditionals and Loops in Python: A Fun Exploration!\n",
        "\n",
        "This Jupyter Notebook will guide you through the exciting world of conditionals (if/else statements) and loops (for/while loops) in Python! Buckle up and get ready for some interactive coding adventures.\n",
        "\n",
        "**Cells:**\n",
        "\n",
        "This notebook is divided into cells. Each cell contains code (`.py`) or explanations (`.markdown`). You can run the code cells by pressing `Shift + Enter`. Text cells won't be executed but provide information.\n",
        "\n",
        "**Let's Begin!**"
      ],
      "metadata": {
        "id": "MUL3WwFZO7rk"
      }
    },
    {
      "cell_type": "code",
      "source": [
        "print(\"Welcome to your Python adventure! Today, we'll explore conditionals and loops to make our code smarter.\")"
      ],
      "outputs": [],
      "execution_count": null,
      "metadata": {
        "id": "QKpgs3OuO7rn"
      }
    },
    {
      "cell_type": "markdown",
      "source": [
        "**1. Conditionals: Making Decisions**\n",
        "\n",
        "Imagine you're a superhero deciding which power to use based on the situation! Conditionals in Python work similarly.\n",
        "\n",
        "**- if statement:** This checks a condition. If it's True, a block of code runs."
      ],
      "metadata": {
        "id": "yCTfAzHwO7ro"
      }
    },
    {
      "cell_type": "code",
      "source": [
        "age = 12\n",
        "if age >= 18:\n",
        "  print(\"You are old enough to get a driver's license!\")"
      ],
      "outputs": [],
      "execution_count": null,
      "metadata": {
        "id": "p0NaGqwLO7ro"
      }
    },
    {
      "cell_type": "markdown",
      "source": [
        "**- else statement:** This runs if the condition in the `if` statement is False."
      ],
      "metadata": {
        "id": "11U8UoTOO7ro"
      }
    },
    {
      "cell_type": "code",
      "source": [
        "weather = \"sunny\"\n",
        "if weather == \"rainy\":\n",
        "  print(\"Bring an umbrella!\")\n",
        "else:\n",
        "  print(\"Enjoy the sunshine!\")"
      ],
      "outputs": [],
      "execution_count": null,
      "metadata": {
        "id": "Y4bNBUmhO7rp"
      }
    },
    {
      "cell_type": "markdown",
      "source": [
        "**2.  Multiple Choice Quiz!**\n",
        "\n",
        "Test your understanding! Choose the best answer for the following questions:\n",
        "\n",
        "**Question 1: What will the following code print?**"
      ],
      "metadata": {
        "id": "cNvGmGXBO7rp"
      }
    },
    {
      "cell_type": "code",
      "source": [
        "number = 7\n",
        "if number % 2 == 0:\n",
        "  print(\"Even number\")"
      ],
      "outputs": [],
      "execution_count": null,
      "metadata": {
        "id": "v3YwjSo_O7rp"
      }
    },
    {
      "cell_type": "markdown",
      "source": [
        "A.  Always prints \"Even number\"  \n",
        "  B.  Only prints \"Even number\" if number is even  \n",
        "  C.  Prints an error  \n",
        "  D.  Needs more information  \n",
        "\n",
        "\n",
        "\n",
        "\n",
        "**Explanation:**\n",
        "\n",
        "The correct answer is **B**. The code checks if the remainder of `number` divided by 2 is 0 (even number). If True, it prints \"Even number\".\n",
        "\n",
        "**Question 2: What does the `else` statement do in an `if` statement?**\n",
        "\n",
        "  A.  Repeats the code block in the `if` statement  \n",
        "  B.  Runs code if the condition in the `if` statement is False  \n",
        "  C.  Defines a variable  \n",
        "  D.  Ends the Python program  \n",
        "\n",
        "**(Select the answer by clicking the box next to your choice)**\n",
        "\n",
        "**Explanation:**\n",
        "\n",
        "The correct answer is **B**. The `else` statement provides an alternative path for the code to run if the condition in the `if` statement is not met.\n",
        "\n",
        "**3.  Practice Time!**\n",
        "\n",
        "**Challenge 1:** Write an `if` statement that checks if a temperature is above 25 degrees Celsius and prints a message accordingly. (Hint: Use a comparison operator like `>`)"
      ],
      "metadata": {
        "id": "80S_he3FO7rq"
      }
    },
    {
      "cell_type": "code",
      "source": [
        "# Your code here"
      ],
      "outputs": [],
      "execution_count": null,
      "metadata": {
        "id": "9luPlZveO7rq"
      }
    },
    {
      "cell_type": "markdown",
      "source": [
        "**Challenge 2:** Expand the code with an `else` statement to suggest an activity if it's cold (temperature below 15 degrees Celsius)."
      ],
      "metadata": {
        "id": "-MHoCDpuO7rq"
      }
    },
    {
      "cell_type": "code",
      "source": [
        "# Your code here"
      ],
      "outputs": [],
      "execution_count": null,
      "metadata": {
        "id": "9n9e9riSO7rq"
      }
    },
    {
      "cell_type": "markdown",
      "source": [
        "**4.  Loops: Repetition is Power**\n",
        "\n",
        "Sometimes, you need to repeat a task multiple times. Loops come in handy for that!\n",
        "\n",
        "**- for loop:** This iterates over a sequence (like a list) and executes a code block for each item."
      ],
      "metadata": {
        "id": "aR2Z3OhXO7rq"
      }
    },
    {
      "cell_type": "code",
      "source": [
        "fruits = [\"apple\", \"banana\", \"cherry\"]\n",
        "for fruit in fruits:\n",
        "  print(f\"I'm adding {fruit} to my smoothie!\")"
      ],
      "outputs": [],
      "execution_count": null,
      "metadata": {
        "id": "_5763Q5UO7rr"
      }
    },
    {
      "cell_type": "markdown",
      "source": [
        "**- while loop:** This keeps repeating a code block as long as a condition is True."
      ],
      "metadata": {
        "id": "rCeto0AOO7rr"
      }
    },
    {
      "cell_type": "code",
      "source": [
        "guess_count = 0\n",
        "while guess_count < 3:\n",
        "  print(\"Guess a number between 1 and 10:\")\n",
        "  guess = int(input())  # convert user input to integer\n",
        "  guess_count += 1\n",
        "\n",
        "  # Add code to check the guess and break the loop if correct"
      ],
      "outputs": [],
      "execution_count": null,
      "metadata": {
        "id": "31kUNmnlO7rr"
      }
    },
    {
      "cell_type": "markdown",
      "source": [
        "**5.  Interactive Fun!**\n",
        "\n",
        "**Challenge 3:**  Let's create a password checker! Write a `while` loop that keeps asking the user for a password until they enter the correct password (\"secret\")."
      ],
      "metadata": {
        "id": "4zvmiLlHO7rr"
      }
    },
    {
      "cell_type": "code",
      "source": [
        "# Your code here"
      ],
      "outputs": [],
      "execution_count": null,
      "metadata": {
        "id": "Fy8D352iO7rr"
      }
    },
    {
      "cell_type": "markdown",
      "source": [
        "**Challenge 4:** Let's build a simple multiplication quiz. Use a `for` loop to iterate over a list of multiplication problems (e.g., [2 * 3, 5 * 4]). Ask the user for the answer and check if it's correct using conditionals."
      ],
      "metadata": {
        "id": "_NTYbjM3O7rr"
      }
    },
    {
      "cell_type": "code",
      "source": [
        "problems = [2 * 3, 5 * 4]\n",
        "score ="
      ],
      "outputs": [],
      "execution_count": null,
      "metadata": {
        "id": "G5V5GmlXO7rs"
      }
    },
    {
      "cell_type": "markdown",
      "source": [
        "5. Wrap-up!\n",
        "\n",
        "Congratulations! You've explored the conditionals and loops in Python. Remember, you can use this to create efficient programs and modify code execution based on conditions.\n"
      ],
      "metadata": {
        "id": "ao29TWj3QvUE"
      }
    }
  ],
  "metadata": {
    "colab": {
      "provenance": []
    },
    "kernelspec": {
      "display_name": "Python 3",
      "name": "python3"
    }
  },
  "nbformat": 4,
  "nbformat_minor": 0
}