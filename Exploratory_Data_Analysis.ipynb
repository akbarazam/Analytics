{
  "cells": [
    {
      "cell_type": "markdown",
      "source": [
        "# Exploratory Data Analysis (EDA)\n",
        "\n",
        "### Introduction\n",
        "\n",
        "Welcome to this hands-on session on exploratory data analysis! Today, we'll be using Python, pandas, and matplotlib to dive into a dataset about cars and uncover interesting patterns and insights.\n",
        "\n",
        "**What is EDA?**\n",
        "\n",
        "Exploratory Data Analysis (EDA) is like being a detective with data. We'll use various techniques to:\n",
        "\n",
        "* **Understand the data:** What information do we have about the cars?\n",
        "* **Uncover relationships:** Are there connections between price and mileage?\n",
        "* **Find patterns:** Do certain car origins dominate the market?\n",
        "\n",
        "### Setting Up\n",
        "\n",
        "Let's make sure we have the tools ready for our investigation:"
      ],
      "metadata": {
        "id": "2mVu4HBG_9tb"
      }
    },
    {
      "cell_type": "code",
      "source": [
        "import pandas as pd\n",
        "import matplotlib.pyplot as plt\n",
        "import numpy as np"
      ],
      "outputs": [],
      "execution_count": null,
      "metadata": {
        "id": "-TB-axBw_9th"
      }
    },
    {
      "cell_type": "markdown",
      "source": [
        "### Loading the Data\n",
        "\n",
        "Our dataset is stored in a CSV file. We'll use pandas to read it into a DataFrame, a handy table-like structure."
      ],
      "metadata": {
        "id": "J29HLPOm_9tj"
      }
    },
    {
      "cell_type": "code",
      "source": [
        "df = pd.read_excel('/content/automobile_dataset.xlsx')"
      ],
      "outputs": [],
      "execution_count": null,
      "metadata": {
        "id": "KjQquqaD_9tj"
      }
    },
    {
      "cell_type": "markdown",
      "source": [
        "### First Look: Peeking at the Data\n",
        "\n",
        "Before we dive deep, let's get a quick overview of our dataset."
      ],
      "metadata": {
        "id": "dd-P1NuB_9tk"
      }
    },
    {
      "cell_type": "code",
      "source": [
        "# Display the first 5 rows\n",
        "print(df.head().to_markdown(index=False, numalign=\"left\", stralign=\"left\"))\n",
        "print(\"\\n\")\n",
        "# Print column names and their data types\n",
        "df.info()"
      ],
      "outputs": [
        {
          "output_type": "stream",
          "name": "stdout",
          "text": [
            "| Make and model   | Price   | Mileage (mpg)   | Repair record 1978   | Headroom (in.)   | Trunk space (cu. ft.)   | Weight (lbs.)   | Length (in.)   | Turn circle (ft.)   | Displacement (cu. in.)   | Gear ratio   | Car origin   |\n",
            "|:-----------------|:--------|:----------------|:---------------------|:-----------------|:------------------------|:----------------|:---------------|:--------------------|:-------------------------|:-------------|:-------------|\n",
            "| AMC Concord      | 4099    | 22              | 3                    | 2.5              | 11                      | 2930            | 186            | 40                  | 121                      | 3.58         | Domestic     |\n",
            "| AMC Pacer        | 4749    | 17              | 3                    | 3                | 11                      | 3350            | 173            | 40                  | 258                      | 2.53         | Domestic     |\n",
            "| AMC Spirit       | 3799    | 22              | nan                  | 3                | 12                      | 2640            | 168            | 35                  | 121                      | 3.08         | Domestic     |\n",
            "| Buick Century    | 4816    | 20              | 3                    | 4.5              | 16                      | 3250            | 196            | 40                  | 196                      | 2.93         | Domestic     |\n",
            "| Buick Electra    | 7827    | 15              | 4                    | 4                | 20                      | 4080            | 222            | 43                  | 350                      | 2.41         | Domestic     |\n",
            "\n",
            "\n",
            "<class 'pandas.core.frame.DataFrame'>\n",
            "RangeIndex: 74 entries, 0 to 73\n",
            "Data columns (total 12 columns):\n",
            " #   Column                  Non-Null Count  Dtype  \n",
            "---  ------                  --------------  -----  \n",
            " 0   Make and model          74 non-null     object \n",
            " 1   Price                   74 non-null     int64  \n",
            " 2   Mileage (mpg)           74 non-null     int64  \n",
            " 3   Repair record 1978      69 non-null     float64\n",
            " 4   Headroom (in.)          74 non-null     float64\n",
            " 5   Trunk space (cu. ft.)   74 non-null     int64  \n",
            " 6   Weight (lbs.)           74 non-null     int64  \n",
            " 7   Length (in.)            74 non-null     int64  \n",
            " 8   Turn circle (ft.)       74 non-null     int64  \n",
            " 9   Displacement (cu. in.)  74 non-null     int64  \n",
            " 10  Gear ratio              74 non-null     float64\n",
            " 11  Car origin              74 non-null     object \n",
            "dtypes: float64(3), int64(7), object(2)\n",
            "memory usage: 7.1+ KB\n"
          ]
        }
      ],
      "execution_count": null,
      "metadata": {
        "id": "_asLJ0Eb_9tk",
        "colab": {
          "base_uri": "https://localhost:8080/"
        },
        "outputId": "3bcf9076-2f89-43c1-949e-e5727f5fcfa8"
      }
    },
    {
      "cell_type": "markdown",
      "source": [
        "**Question 1 (Multiple Choice):** Which of the following columns is not numerical?\n",
        "\n",
        "1. Price\n",
        "2. Mileage (mpg)\n",
        "3. Repair record 1978\n",
        "4. Car origin\n",
        "\n",
        "**Answer:** 4\n",
        "\n",
        "### Summary Statistics: The Big Picture\n",
        "\n",
        "Let's calculate summary statistics for the numerical columns to get a sense of central tendencies and spread."
      ],
      "metadata": {
        "id": "BTw0S8Fz_9tk"
      }
    },
    {
      "cell_type": "code",
      "source": [
        "descriptive_stats = df.describe()\n",
        "print(\"Descriptive Statistics (excluding 'Repair record 1978'):\\n\")\n",
        "print(descriptive_stats.to_markdown(numalign=\"left\", stralign=\"left\"))"
      ],
      "outputs": [
        {
          "output_type": "stream",
          "name": "stdout",
          "text": [
            "Descriptive Statistics (excluding 'Repair record 1978'):\n",
            "\n",
            "|       | Price   | Mileage (mpg)   | Repair record 1978   | Headroom (in.)   | Trunk space (cu. ft.)   | Weight (lbs.)   | Length (in.)   | Turn circle (ft.)   | Displacement (cu. in.)   | Gear ratio   |\n",
            "|:------|:--------|:----------------|:---------------------|:-----------------|:------------------------|:----------------|:---------------|:--------------------|:-------------------------|:-------------|\n",
            "| count | 74      | 74              | 69                   | 74               | 74                      | 74              | 74             | 74                  | 74                       | 74           |\n",
            "| mean  | 6165.26 | 21.2973         | 3.4058               | 2.99324          | 13.7568                 | 3019.46         | 187.932        | 39.6486             | 197.297                  | 3.01486      |\n",
            "| std   | 2949.5  | 5.7855          | 0.989932             | 0.845995         | 4.2774                  | 777.194         | 22.2663        | 4.39935             | 91.8372                  | 0.456287     |\n",
            "| min   | 3291    | 12              | 1                    | 1.5              | 5                       | 1760            | 142            | 31                  | 79                       | 2.19         |\n",
            "| 25%   | 4220.25 | 18              | 3                    | 2.5              | 10.25                   | 2250            | 170            | 36                  | 119                      | 2.73         |\n",
            "| 50%   | 5006.5  | 20              | 3                    | 3                | 14                      | 3190            | 192.5          | 40                  | 196                      | 2.955        |\n",
            "| 75%   | 6332.25 | 24.75           | 4                    | 3.5              | 16.75                   | 3600            | 203.75         | 43                  | 245.25                   | 3.3525       |\n",
            "| max   | 15906   | 41              | 5                    | 5                | 23                      | 4840            | 233            | 51                  | 425                      | 3.89         |\n"
          ]
        }
      ],
      "execution_count": null,
      "metadata": {
        "id": "h-O1NHvp_9tm",
        "colab": {
          "base_uri": "https://localhost:8080/"
        },
        "outputId": "e3448dfb-42f7-429e-ad5a-32689b8abb70"
      }
    },
    {
      "cell_type": "markdown",
      "source": [
        "**Question 2 (True/False):** The average price of the cars in the dataset is more than $5000.\n",
        "**Answer:** True\n",
        "\n",
        "### Categorical Variables: Groups and Proportions\n",
        "\n",
        "We have a few categorical columns. Let's explore them by counting the occurrences of each unique value."
      ],
      "metadata": {
        "id": "z7Gcb2bg_9tn"
      }
    },
    {
      "cell_type": "code",
      "source": [
        "# Mode, count and percentage for the 'Repair Record 1978' column\n",
        "mode_repair_record = df['Repair record 1978'].mode()\n",
        "count_mode_repair_record = df['Repair record 1978'].value_counts().max()\n",
        "percentage_mode_repair_record = (count_mode_repair_record / df['Repair record 1978'].count()) * 100\n",
        "print(f\"Mode Repair Record: {mode_repair_record[0]}, Count: {count_mode_repair_record}, Percentage: {percentage_mode_repair_record:.2f}%\")\n",
        "\n",
        "# Count of occurrences for the 'Car Origin' column\n",
        "car_origin_counts = df['Car origin'].value_counts()\n",
        "print(\"Car Origin Counts:\\n\", car_origin_counts)"
      ],
      "outputs": [
        {
          "output_type": "stream",
          "name": "stdout",
          "text": [
            "Mode Repair Record: 3.0, Count: 30, Percentage: 43.48%\n",
            "Car Origin Counts:\n",
            " Car origin\n",
            "Domestic    52\n",
            "Foreign     22\n",
            "Name: count, dtype: int64\n"
          ]
        }
      ],
      "execution_count": null,
      "metadata": {
        "id": "evbU_VsT_9tn",
        "colab": {
          "base_uri": "https://localhost:8080/"
        },
        "outputId": "72eaf517-482d-4af5-d3e7-0d99b4ebf1ca"
      }
    },
    {
      "cell_type": "markdown",
      "source": [
        "**Student Challenge:** Calculate and print the percentage of cars from each origin.\n",
        "\n",
        "### Visualizations: Seeing is Believing\n",
        "\n",
        "Histograms are great for visualizing the distribution of numerical data."
      ],
      "metadata": {
        "id": "u3dzdlVz_9to"
      }
    },
    {
      "cell_type": "code",
      "source": [
        "# Create histograms for all numerical columns except `Repair record 1978`\n",
        "df[['Price','Mileage (mpg)']].hist(figsize=(8, 4))\n",
        "plt.suptitle(\"Histograms of Numerical Variables\", fontsize=14)\n",
        "plt.show()"
      ],
      "outputs": [
        {
          "output_type": "display_data",
          "data": {
            "text/plain": [
              "<Figure size 800x400 with 2 Axes>"
            ],
            "image/png": "[encoded data removed]"
          },
          "metadata": {}
        }
      ],
      "execution_count": null,
      "metadata": {
        "id": "S3KzhiRK_9to",
        "colab": {
          "base_uri": "https://localhost:8080/",
          "height": 408
        },
        "outputId": "5e99bb51-86f7-40c1-c030-777bdfb4d5f0"
      }
    },
    {
      "cell_type": "markdown",
      "source": [
        "### Relationships: Connections and Correlations\n",
        "\n",
        "Let's see if there's any relationship between price and mileage."
      ],
      "metadata": {
        "id": "DYeb1iGX_9tp"
      }
    },
    {
      "cell_type": "code",
      "source": [
        "# Scatterplot of price vs mileage\n",
        "plt.scatter(df['Mileage (mpg)'], df['Price'])\n",
        "plt.xlabel('Mileage (mpg)')\n",
        "plt.ylabel('Price')\n",
        "plt.title('Price vs. Mileage')\n",
        "plt.show()"
      ],
      "outputs": [
        {
          "output_type": "display_data",
          "data": {
            "text/plain": [
              "<Figure size 640x480 with 1 Axes>"
            ],
            "image/png": "[encoded data removed]"
          },
          "metadata": {}
        }
      ],
      "execution_count": null,
      "metadata": {
        "id": "QggvI_xq_9tp",
        "colab": {
          "base_uri": "https://localhost:8080/",
          "height": 472
        },
        "outputId": "e051732a-fe30-427e-8491-0acd4d82af6a"
      }
    },
    {
      "cell_type": "markdown",
      "source": [
        "**Student Challenge:** Create a scatterplot to visualize the relationship between any two other numerical variables in the dataset.\n"
      ],
      "metadata": {
        "id": "f-DQjI57_9tq"
      }
    },
    {
      "cell_type": "code",
      "source": [],
      "metadata": {
        "id": "ucLoJ95vD23s"
      },
      "execution_count": null,
      "outputs": []
    },
    {
      "cell_type": "markdown",
      "source": [
        "---\n",
        "\n",
        "### Deeper Analysis: Car Origins and More\n",
        "\n",
        "Let's explore how car origins relate to price and other factors."
      ],
      "metadata": {
        "id": "1tRYApP9CAYd"
      }
    },
    {
      "cell_type": "code",
      "source": [
        "# Calculate and print the mean and median prices for each car origin\n",
        "mean_prices_by_origin = df.groupby('Car origin')['Price'].mean()\n",
        "median_prices_by_origin = df.groupby('Car origin')['Price'].median()\n",
        "\n",
        "print(\"Mean Prices by Origin:\\n\", mean_prices_by_origin.to_markdown(numalign=\"left\", stralign=\"left\"))\n",
        "print(\"\\nMedian Prices by Origin:\\n\", median_prices_by_origin.to_markdown(numalign=\"left\", stralign=\"left\"))"
      ],
      "outputs": [],
      "execution_count": null,
      "metadata": {
        "id": "5UQWqxyHCAYf"
      }
    },
    {
      "cell_type": "markdown",
      "source": [
        "**Question 3 (Multiple Choice):** On average, which origin of cars is more expensive?\n",
        "\n",
        "1. Domestic\n",
        "2. Foreign\n",
        "3. They are about the same\n",
        "\n",
        "**Answer:** 2\n",
        "\n",
        "#### Visualizing Price vs. Mileage by Origin\n",
        "\n",
        "Let's create a scatter plot to see how price and mileage vary across car origins."
      ],
      "metadata": {
        "id": "KeUIN04SCAYg"
      }
    },
    {
      "cell_type": "code",
      "source": [
        "# Filter the DataFrame for 'Domestic' and 'Foreign' origins\n",
        "domestic_cars = df[df['Car origin'] == 'Domestic']\n",
        "foreign_cars = df[df['Car origin'] == 'Foreign']\n",
        "\n",
        "# Create the scatter plot\n",
        "plt.figure(figsize=(10, 6))  # Adjust figure size if needed\n",
        "plt.scatter(domestic_cars['Mileage (mpg)'], domestic_cars['Price'], color='blue', label='Domestic')\n",
        "plt.scatter(foreign_cars['Mileage (mpg)'], foreign_cars['Price'], color='orange', label='Foreign')\n",
        "\n",
        "# Add labels and title\n",
        "plt.xlabel('Mileage (mpg)')\n",
        "plt.ylabel('Price')\n",
        "plt.title('Price vs. Mileage by Car Origin')\n",
        "\n",
        "# Add legend\n",
        "plt.legend()\n",
        "\n",
        "# Show the plot\n",
        "plt.show()"
      ],
      "outputs": [],
      "execution_count": null,
      "metadata": {
        "id": "8kGKabapCAYh"
      }
    },
    {
      "cell_type": "markdown",
      "source": [
        "**Question 4 (True/False):** The scatter plot suggests that foreign cars generally have higher mileage than domestic cars.\n",
        "\n",
        "**Answer:** False\n",
        "\n",
        "### Impact of Repair Records\n",
        "\n",
        "Let's focus on cars with a specific repair record and see how their prices compare."
      ],
      "metadata": {
        "id": "R_2_hSeVCAYi"
      }
    },
    {
      "cell_type": "code",
      "source": [
        "# Filter the DataFrame to include only cars with a Repair record 1978 value of 3\n",
        "filtered_df = df[df['Repair record 1978'] == 3]\n",
        "\n",
        "# Calculate and print the mean and median prices for this filtered dataset\n",
        "mean_price_filtered = filtered_df['Price'].mean()\n",
        "median_price_filtered = filtered_df['Price'].median()\n",
        "\n",
        "print(\"\\nMean Price for Cars with Repair Record 3:\", mean_price_filtered)\n",
        "print(\"Median Price for Cars with Repair Record 3:\", median_price_filtered)"
      ],
      "outputs": [],
      "execution_count": null,
      "metadata": {
        "id": "XDBQ_OvlCAYj"
      }
    },
    {
      "cell_type": "markdown",
      "source": [
        "**Student Challenge:** Repeat the above analysis for cars with a different repair record value. Do you notice any trends in how repair records might affect prices?\n",
        "\n",
        "### Box Plots: Distributions Across Categories\n",
        "\n",
        "Box plots are excellent for comparing distributions across different groups. Let's use them to visualize price distributions for each car origin."
      ],
      "metadata": {
        "id": "ApyBnnp8CAYk"
      }
    },
    {
      "cell_type": "code",
      "source": [
        "# Create a figure and axes for the plot\n",
        "fig, ax = plt.subplots()\n",
        "\n",
        "# Create a list of price data for each car origin, 'Domestic' and 'Foreign'\n",
        "price_data = [df[df['Car origin'] == origin]['Price'] for origin in df['Car origin'].unique()]\n",
        "\n",
        "# Create a box plot using the price data for each origin\n",
        "ax.boxplot(price_data)\n",
        "\n",
        "# Set the title of the plot to 'Price Distribution by Car Origin'\n",
        "ax.set_title('Price Distribution by Car Origin')\n",
        "\n",
        "# Set the x-axis label to 'Car Origin'\n",
        "ax.set_xlabel('Car Origin')\n",
        "\n",
        "# Set the y-axis label to 'Price'\n",
        "ax.set_ylabel('Price')\n",
        "\n",
        "# Set the x-tick labels to the unique car origins\n",
        "ax.set_xticklabels(df['Car origin'].unique())\n",
        "\n",
        "# Display the plot\n",
        "plt.show()"
      ],
      "outputs": [],
      "execution_count": null,
      "metadata": {
        "id": "AdUithCyCAYk"
      }
    },
    {
      "cell_type": "markdown",
      "source": [
        "**Question 5 (Multiple Choice):** Based on the box plot, which car origin has a larger spread in prices?\n",
        "\n",
        "1. Domestic\n",
        "2. Foreign\n",
        "3. They have similar spreads\n",
        "\n",
        "**Answer:** 1"
      ],
      "metadata": {
        "id": "nLFSKkaWCAYl"
      }
    }
  ],
  "metadata": {
    "colab": {
      "provenance": []
    },
    "kernelspec": {
      "display_name": "Python 3",
      "name": "python3"
    }
  },
  "nbformat": 4,
  "nbformat_minor": 0
}