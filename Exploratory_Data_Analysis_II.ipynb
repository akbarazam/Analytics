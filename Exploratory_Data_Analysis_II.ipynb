{
  "cells": [
    {
      "cell_type": "markdown",
      "source": [
        "# Exploratory Data Analysis (EDA) of Cars: A Comprehensive Student Guide\n",
        "\n",
        "Welcome to this in-depth exploration of our car dataset! We'll use Python, pandas, and matplotlib to uncover hidden patterns, relationships, and insights.\n",
        "\n",
        "**What is EDA?**\n",
        "\n",
        "Exploratory Data Analysis (EDA) is a crucial first step in any data science project. It's about getting to know your data intimately, understanding its structure, identifying potential issues, and formulating questions for further analysis.\n",
        "\n",
        "### Setting Up\n",
        "\n",
        "Let's ensure we have the necessary tools ready:"
      ],
      "metadata": {
        "id": "30blp266RO3x"
      }
    },
    {
      "cell_type": "code",
      "source": [
        "import pandas as pd\n",
        "import matplotlib.pyplot as plt\n",
        "import numpy as np"
      ],
      "outputs": [],
      "execution_count": null,
      "metadata": {
        "id": "3cQFKxvXRO3y"
      }
    },
    {
      "cell_type": "markdown",
      "source": [
        "### Loading the Data\n",
        "\n",
        "Our dataset is stored in a CSV file. We'll use pandas to read it into a DataFrame, a convenient table-like structure."
      ],
      "metadata": {
        "id": "tpd3Iy9kRO3y"
      }
    },
    {
      "cell_type": "code",
      "source": [
        "# Load the data\n",
        "df = pd.read_excel('/content/automobile_dataset.xlsx')"
      ],
      "outputs": [],
      "execution_count": null,
      "metadata": {
        "id": "f_wuyo5VRO3y"
      }
    },
    {
      "cell_type": "markdown",
      "source": [
        "### First Look: Peeking at the Data\n",
        "\n",
        "Before we dive deep, let's get a quick overview of our dataset."
      ],
      "metadata": {
        "id": "z0uB4U_kRO3z"
      }
    },
    {
      "cell_type": "code",
      "source": [
        "# Display the first 5 rows\n",
        "print(df.head().to_markdown(index=False, numalign=\"left\", stralign=\"left\"))\n",
        "\n",
        "# Print column names and their data types\n",
        "df.info()"
      ],
      "outputs": [],
      "execution_count": null,
      "metadata": {
        "id": "oGWouWHSRO3z"
      }
    },
    {
      "cell_type": "markdown",
      "source": [
        "\n",
        "\n",
        "**Key Questions to Explore:**\n",
        "\n",
        "* What are the different car models in our dataset?\n",
        "* What range of prices and mileage do we have?\n",
        "* Are there any missing values?\n",
        "\n",
        "### Data Cleaning: Tidying Up\n",
        "\n",
        "Real-world datasets often have missing or inconsistent values. Let's check for missing values and decide how to handle them."
      ],
      "metadata": {
        "id": "45OePZZKRO30"
      }
    },
    {
      "cell_type": "code",
      "source": [
        "# Check for missing values\n",
        "print(df.isnull().sum())"
      ],
      "outputs": [],
      "execution_count": null,
      "metadata": {
        "id": "YAxfcvNORO30"
      }
    },
    {
      "cell_type": "markdown",
      "source": [
        "\n",
        "**Handling Missing Values (Optional):**\n",
        "\n",
        "* The column `Repair record 1978` has 5 missing values. Since it's a small number compared to the dataset size, we'll drop the rows with missing values for simplicity."
      ],
      "metadata": {
        "id": "yCXYrTMQRO31"
      }
    },
    {
      "cell_type": "code",
      "source": [
        "# Drop rows with missing values in 'Repair record 1978'\n",
        "df.dropna(subset=['Repair record 1978'], inplace=True)"
      ],
      "outputs": [],
      "execution_count": null,
      "metadata": {
        "id": "Ohi8656-RO31"
      }
    },
    {
      "cell_type": "markdown",
      "source": [
        "### Summary Statistics: The Big Picture\n",
        "\n",
        "Let's calculate summary statistics for the numerical columns to get a sense of central tendencies and spread."
      ],
      "metadata": {
        "id": "HLAUll7CRO31"
      }
    },
    {
      "cell_type": "code",
      "source": [
        "# Calculate descriptive statistics\n",
        "print(df.describe().to_markdown(numalign=\"left\", stralign=\"left\"))"
      ],
      "outputs": [],
      "execution_count": null,
      "metadata": {
        "id": "f-0k1B7GRO31"
      }
    },
    {
      "cell_type": "markdown",
      "source": [
        "\n",
        "---\n",
        "\n",
        "### Analyzing Car Origins and Prices\n",
        "\n",
        "The previous analysis focused on numerical variables. Now, we will shift our focus to the categorical variable `Car origin`. We will examine its relationship with the numerical variable `Price`. We will use group by and aggregation to find the mean and median prices for each car origin. Additionally, we will create a box plot to visualize the distribution of prices across different car origins."
      ],
      "metadata": {
        "id": "6h04uDViRQ5I"
      }
    },
    {
      "cell_type": "code",
      "source": [
        "# Group by `Car origin` and calculate mean and median `Price`\n",
        "price_stats_by_origin = df.groupby('Car origin')['Price'].agg(['mean', 'median'])\n",
        "\n",
        "# Print the results\n",
        "print(\"Price Statistics by Car Origin:\")\n",
        "print(price_stats_by_origin.to_markdown(numalign=\"left\", stralign=\"left\"))"
      ],
      "outputs": [],
      "execution_count": null,
      "metadata": {
        "id": "7rfqEfw-RQ5I"
      }
    },
    {
      "cell_type": "markdown",
      "source": [
        "**Key Insights:**\n",
        "\n",
        "* On average, foreign cars are slightly more expensive than domestic cars.\n",
        "* The median price of foreign cars is notably higher than that of domestic cars.\n",
        "\n",
        "#### Visualizing Price Distribution by Origin\n",
        "\n",
        "Let's create a box plot to visualize the distribution of prices across car origins."
      ],
      "metadata": {
        "id": "OPZs7I6LRQ5I"
      }
    },
    {
      "cell_type": "code",
      "source": [
        "# Create a box plot to display the distribution of `Price` across different `Car origin` categories\n",
        "# Prepare data for the boxplot\n",
        "origins = df['Car origin'].unique()\n",
        "data = [df[df['Car origin'] == origin]['Price'] for origin in origins]\n",
        "\n",
        "# Create the figure and axes\n",
        "plt.figure(figsize=(8, 6))  # Adjust the figure size as needed\n",
        "ax = plt.axes()\n",
        "\n",
        "# Create the boxplot\n",
        "bp = ax.boxplot(data, patch_artist=True)  # patch_artist fills the boxes\n",
        "\n",
        "# Customize the box colors\n",
        "colors = ['skyblue', 'salmon']  # Colors for each car origin\n",
        "for patch, color in zip(bp['boxes'], colors):\n",
        "    patch.set_facecolor(color)\n",
        "\n",
        "# Add labels and title\n",
        "plt.title('Price Distribution by Car Origin')\n",
        "plt.ylabel('Price')\n",
        "plt.xlabel('Car Origin')\n",
        "plt.xticks(range(1, len(origins) + 1), origins) # Set x-ticks to match the origins\n",
        "\n",
        "# Show the plot\n",
        "plt.show()"
      ],
      "outputs": [],
      "execution_count": null,
      "metadata": {
        "id": "DT4YZmGURQ5I"
      }
    },
    {
      "cell_type": "markdown",
      "source": [
        "**Key Insights:**\n",
        "\n",
        "* The box plot confirms that foreign cars generally have higher prices.\n",
        "* Domestic cars exhibit a wider range of prices, from very affordable to moderately expensive.\n",
        "* Foreign cars have a more clustered price distribution, mostly in the mid-to-high range.\n",
        "\n",
        "**Student Challeng**\n",
        "* Create a categorical variable for mileage, high or low\n",
        "* look at the distribution of car prices by high and low mileage\n",
        "* What conclusions can you make?\n"
      ],
      "metadata": {
        "id": "dYo30WOeRQ5J"
      }
    },
    {
      "cell_type": "code",
      "source": [],
      "metadata": {
        "id": "OHvkA21QZhXM"
      },
      "execution_count": null,
      "outputs": []
    },
    {
      "cell_type": "markdown",
      "source": [
        "\n",
        "### Impact of Repair Records on Price\n",
        "\n",
        "Let's investigate how repair records might influence car prices. We'll focus on cars with a repair record of 3."
      ],
      "metadata": {
        "id": "wPWdXX45Yi_f"
      }
    },
    {
      "cell_type": "code",
      "source": [
        "# Filter the DataFrame to include only cars with a `Repair record 1978` value of 3\n",
        "filtered_df = df[df['Repair record 1978'] == 3]\n",
        "\n",
        "# Calculate the mean and median `Price` for this filtered dataset\n",
        "mean_price_filtered = filtered_df['Price'].mean()\n",
        "median_price_filtered = filtered_df['Price'].median()\n",
        "\n",
        "# Print the results\n",
        "print(\"\\nPrice Statistics for Cars with Repair Record of 3:\")\n",
        "print(f\"Mean Price: {mean_price_filtered:.2f}\")\n",
        "print(f\"Median Price: {median_price_filtered:.2f}\")"
      ],
      "outputs": [],
      "execution_count": null,
      "metadata": {
        "id": "0X6cfRInRQ5J"
      }
    },
    {
      "cell_type": "markdown",
      "source": [
        "Price Statistics for Cars with Repair Record of 3:\n",
        "Mean Price: 6429.23\n",
        "Median Price: 4741.00\n",
        "\n",
        "**Key Insights:**\n",
        "\n",
        "* Cars with a repair record of 3 have a mean price of \\$6429.23 and a median price of \\$4741.00.\n",
        "\n",
        "**Student Challenge:**\n",
        "\n",
        "1.  Repeat the above analysis for cars with different repair record values (e.g., 1, 2, 4, 5).\n",
        "2.  Compare the mean and median prices across different repair records.\n",
        "3.  Do you notice any trends? Does the repair record seem to affect the price significantly?"
      ],
      "metadata": {
        "id": "6ZRdkBg8RQ5J"
      }
    },
    {
      "cell_type": "code",
      "source": [],
      "metadata": {
        "id": "qwkAxyYRW0kF"
      },
      "execution_count": null,
      "outputs": []
    },
    {
      "cell_type": "markdown",
      "source": [
        "**Student Challenge:** Price vs. Weight Showdown\n",
        "\n",
        "Does car weight change with price?\n",
        "\n",
        "Create a scatter plot to visualize the relationship between Price and Weight (lbs.).\n",
        "\n",
        "\n",
        "Hint: Use Matplotlib's scatter function and add labels and a title. Calculate and print the correlation coefficient.\n"
      ],
      "metadata": {
        "id": "Mf8JyPU0aLRF"
      }
    },
    {
      "cell_type": "code",
      "source": [],
      "metadata": {
        "id": "7LzOQOFQasrr"
      },
      "execution_count": null,
      "outputs": []
    },
    {
      "cell_type": "markdown",
      "source": [
        "**Student Challenge**: Headroom for Tall Drivers\n",
        "\n",
        "Identify the top 3 car models with the most headroom (Headroom (in.)).\n",
        "\n",
        "Hint: Sort the DataFrame by Headroom (in.) in descending order and select the top 3 rows."
      ],
      "metadata": {
        "id": "bmcyAxjBatVv"
      }
    },
    {
      "cell_type": "code",
      "source": [],
      "metadata": {
        "id": "8lk-QzKNa3GZ"
      },
      "execution_count": null,
      "outputs": []
    },
    {
      "cell_type": "markdown",
      "source": [
        "**Student Challenge:** Trunk Space Comparison by Origin\n",
        "\n",
        "Compare the trunk space (Trunk space (cu. ft.)) distribution between domestic and foreign cars using box plots.\n",
        "\n",
        "Hint: Filter the DataFrame for each origin, then use Matplotlib's boxplot function."
      ],
      "metadata": {
        "id": "CJL0dgGKbBc7"
      }
    },
    {
      "cell_type": "code",
      "source": [],
      "metadata": {
        "id": "FTMgCjILbFI7"
      },
      "execution_count": null,
      "outputs": []
    },
    {
      "cell_type": "markdown",
      "source": [
        "**Student Challenge:** Displacement and Gear Ratio Exploration\n",
        "\n",
        "Analyze the relationship between Displacement (cu. in.) and Gear ratio. Is there a noticeable pattern?\n",
        "\n",
        "Hint: Create a scatter plot and calculate the correlation coefficient."
      ],
      "metadata": {
        "id": "iKaVzHmhbMaL"
      }
    },
    {
      "cell_type": "code",
      "source": [],
      "metadata": {
        "id": "f5kKVwSgbQjA"
      },
      "execution_count": null,
      "outputs": []
    }
  ],
  "metadata": {
    "colab": {
      "provenance": []
    },
    "kernelspec": {
      "display_name": "Python 3",
      "name": "python3"
    }
  },
  "nbformat": 4,
  "nbformat_minor": 0
}