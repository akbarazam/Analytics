{
  "cells": [
    {
      "cell_type": "markdown",
      "source": [
        "## Level Up Your Code: Functions in Python!\n",
        "\n",
        "This Jupyter Notebook takes you on an adventure to conquer functions in Python! Functions are like reusable building blocks that make your code cleaner, more organized, and, well, way more fun! Buckle up and get ready to write powerful code!\n",
        "\n",
        "**Cells:**\n",
        "\n",
        "This notebook is divided into cells. Each cell contains code (`.py`) or explanations (`.markdown`). You can run the code cells by pressing `Shift + Enter`. Text cells won't be executed but provide information.\n",
        "\n",
        "**Let's Begin!**"
      ],
      "metadata": {
        "id": "6zZ3-P_QQTg4"
      }
    },
    {
      "cell_type": "code",
      "source": [
        "print(\"Welcome, coders! Today, we'll learn about functions, the superheroes of Python that save time and make code awesome!\")"
      ],
      "outputs": [],
      "execution_count": null,
      "metadata": {
        "id": "o80xIKfyQTg7"
      }
    },
    {
      "cell_type": "markdown",
      "source": [
        "**1. Function Fundamentals**\n",
        "\n",
        "Imagine a chef with a signature recipe for delicious cookies. They don't need to rewrite the entire recipe every time! Similarly, functions let you define a block of code once and reuse it with different inputs.\n",
        "\n",
        "**- `def function_name(parameters):`:** This defines a function.\n",
        "    - `function_name`: A unique name for your function.\n",
        "    - `parameters`: Optional inputs the function can receive (like ingredients for a recipe).\n",
        "\n",
        "**- `return value`:** This is what the function \"sends back\" after it executes the code block."
      ],
      "metadata": {
        "id": "gXI0ock6QTg8"
      }
    },
    {
      "cell_type": "code",
      "source": [
        "def greet(name):\n",
        "  \"\"\"This function greets a person by name.\"\"\"\n",
        "  message = f\"Hello, {name}! How are you today?\"\n",
        "  return message\n",
        "\n",
        "# Calling the function (like ordering cookies)\n",
        "greeting = greet(\"Alice\")\n",
        "print(greeting)"
      ],
      "outputs": [
        {
          "output_type": "stream",
          "name": "stdout",
          "text": [
            "Hello, Alice! How are you today?\n"
          ]
        }
      ],
      "execution_count": null,
      "metadata": {
        "colab": {
          "base_uri": "https://localhost:8080/"
        },
        "id": "9Q1IaI-PQTg8",
        "outputId": "ac81d67e-dbef-4b67-b0b1-0fa928b59dfc"
      }
    },
    {
      "cell_type": "markdown",
      "source": [
        "**2.  Multiple Choice Quiz!**\n",
        "\n",
        "Test your understanding! Choose the best answer for the following questions:\n",
        "\n",
        "**Question 1: What happens when you call a function?**\n",
        "\n",
        "  A.  The entire code is rewritten  \n",
        "  B.  The defined code block in the function executes  \n",
        "  C.  It creates a new variable  \n",
        "  D.  It exits the program  \n",
        "\n",
        "**(Select the answer by clicking the box next to your choice)**\n",
        "\n",
        "**Explanation:**\n",
        "\n",
        "The correct answer is **B**. When you call a function by its name, the defined code block within the function executes.\n",
        "\n",
        "**Question 2: What does the `return` statement do in a function?**\n",
        "\n",
        "  A.  Defines a new function  \n",
        "  B.  Sends a value back from the function  \n",
        "  C.  Stops the program  \n",
        "  D.  Prints the value  \n",
        "\n",
        "**(Select the answer by clicking the box next to your choice)**\n",
        "\n",
        "**Explanation:**\n",
        "\n",
        "The correct answer is **B**. The `return` statement allows the function to send a value or data back to the code that called it.\n",
        "\n",
        "\n",
        "**A function that does not have a return value**\n",
        "Functions can have no return values. The function above is modified to perform a similar function without a return values.\n"
      ],
      "metadata": {
        "id": "b7zqmfbPQTg9"
      }
    },
    {
      "cell_type": "code",
      "source": [
        "def greet():\n",
        "  name = input(\"what is your name? \")\n",
        "  \"\"\"This function greets a person by name.\"\"\"\n",
        "  print(f\"Hello, {name}! How are you today?\")\n",
        "  return\n",
        "\n",
        "# Calling the function (like ordering cookies)\n",
        "print(greet())"
      ],
      "metadata": {
        "colab": {
          "base_uri": "https://localhost:8080/"
        },
        "id": "w-oWU6bBRK1f",
        "outputId": "de9e6828-b516-4aac-c461-7a1c7a175c02"
      },
      "execution_count": null,
      "outputs": [
        {
          "output_type": "stream",
          "name": "stdout",
          "text": [
            "what is your name? Farah\n",
            "Hello, Farah! How are you today?\n",
            "None\n"
          ]
        }
      ]
    },
    {
      "cell_type": "markdown",
      "source": [
        "**3.  Practice Time!**\n",
        "\n",
        "**Challenge 1:** Write a function called `calculate_area` that takes the length and width of a rectangle as parameters and returns the calculated area."
      ],
      "metadata": {
        "id": "YI5YM9DWRQnc"
      }
    },
    {
      "cell_type": "code",
      "source": [
        "# Your code here\n",
        "def calculate_area(length, width):\n",
        "  area = length * width\n",
        "  return area\n",
        "\n",
        "area = calculate_area(5, 3)\n",
        "print(area)"
      ],
      "outputs": [
        {
          "output_type": "stream",
          "name": "stdout",
          "text": [
            "15\n"
          ]
        }
      ],
      "execution_count": null,
      "metadata": {
        "colab": {
          "base_uri": "https://localhost:8080/"
        },
        "id": "K1XnrxHgQTg9",
        "outputId": "abef7cd4-e11a-4ffa-e41d-673a21f0497f"
      }
    },
    {
      "cell_type": "markdown",
      "source": [
        "**Challenge 2:** Expand your `calculate_area` function to accept an additional parameter for height and calculate the volume of a box if all three dimensions are provided."
      ],
      "metadata": {
        "id": "eAJR__eFQTg9"
      }
    },
    {
      "cell_type": "code",
      "source": [
        "# Your code here"
      ],
      "outputs": [],
      "execution_count": null,
      "metadata": {
        "id": "HFwHUBh7QTg-"
      }
    },
    {
      "cell_type": "markdown",
      "source": [
        "**4.  Functions in Action!**\n",
        "\n",
        "Now, let's use functions to build interactive programs!\n",
        "\n",
        "**Challenge 3:** Write a program that uses a function to play a simple number guessing game. The function should generate a random number and check the user's guess. Provide hints based on their guess (too high or too low)."
      ],
      "metadata": {
        "id": "aZnjnJBzQTg-"
      }
    },
    {
      "cell_type": "code",
      "source": [
        "# Your code here"
      ],
      "outputs": [],
      "execution_count": null,
      "metadata": {
        "id": "tZd2dsS3QTg-"
      }
    },
    {
      "cell_type": "markdown",
      "source": [
        "**Challenge 4:** Let's create a mini-quiz game using functions! Define functions for asking questions, checking answers, and keeping track of the score."
      ],
      "metadata": {
        "id": "RYOqPpucQTg-"
      }
    },
    {
      "cell_type": "code",
      "source": [
        "# Your code here"
      ],
      "outputs": [],
      "execution_count": null,
      "metadata": {
        "id": "TLHpZfhqQTg_"
      }
    },
    {
      "cell_type": "markdown",
      "source": [
        "**5.  Wrap-up!**\n",
        "\n",
        "Congratulations! You've conquered the world of functions in Python! Remember, functions are powerful tools for organizing your code and making it reusable. Explore more examples and experiment with different function designs to become a master coder!\n",
        "\n",
        "**Bonus Challenge:** Combine functions with loops and conditionals to create a more complex program. Maybe a text-based adventure game where the user makes choices and the story unfolds based on those choices using different functions!"
      ],
      "metadata": {
        "id": "jJcszU4HQTg_"
      }
    }
  ],
  "metadata": {
    "colab": {
      "provenance": []
    },
    "kernelspec": {
      "display_name": "Python 3",
      "name": "python3"
    }
  },
  "nbformat": 4,
  "nbformat_minor": 0
}