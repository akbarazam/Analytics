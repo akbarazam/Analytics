{
  "cells": [
    {
      "cell_type": "markdown",
      "source": [
        "# Introduction to Matplotlib: Your Data Visualization Toolkit\n",
        "\n",
        "Welcome to the world of matplotlib! In this notebook, we'll explore how to create informative and visually appealing graphs to bring your data to life. Matplotlib is a powerful Python library that empowers you to create a wide variety of plots and charts.\n",
        "\n",
        "### Getting Started: Essential Imports\n",
        "\n",
        "Let's begin by importing the necessary libraries:"
      ],
      "metadata": {
        "id": "N7PS-sFhDruW"
      }
    },
    {
      "cell_type": "code",
      "source": [
        "import matplotlib.pyplot as plt\n",
        "import numpy as np\n",
        "import pandas as pd # Only if you are using data from a DataFrame"
      ],
      "outputs": [],
      "execution_count": null,
      "metadata": {
        "id": "mqrllcNFDrub"
      }
    },
    {
      "cell_type": "markdown",
      "source": [
        "### Scatter Plots: Visualizing Relationships\n",
        "\n",
        "Scatter plots are fantastic for revealing relationships between two numerical variables. Each dot represents an observation, with its position determined by the values of the two variables."
      ],
      "metadata": {
        "id": "Fq1CMZowDruc"
      }
    },
    {
      "cell_type": "code",
      "source": [
        "# Sample data\n",
        "x = np.random.rand(50)\n",
        "y = x + np.random.rand(50) * 0.5\n",
        "\n",
        "# Create a scatter plot\n",
        "plt.figure(figsize=(8, 6))  # Optional: Adjust figure size\n",
        "plt.scatter(x, y, color='skyblue', marker='o')\n",
        "plt.xlabel('X-axis Label')\n",
        "plt.ylabel('Y-axis Label')\n",
        "plt.title('Scatter Plot Example')\n",
        "plt.grid(axis='y', linestyle='--') # Optional: Add a grid\n",
        "plt.show()"
      ],
      "outputs": [],
      "execution_count": null,
      "metadata": {
        "id": "gUEIbwIQDruc"
      }
    },
    {
      "cell_type": "markdown",
      "source": [
        "**Key Scatter Plot Options:**\n",
        "\n",
        "* `marker`: Change the shape of the points (e.g., 'o', 'x', 's', '^').\n",
        "* `color`: Set the color of the points.\n",
        "* `alpha`: Control the transparency of the points.\n",
        "\n",
        "### Bar Charts: Comparing Categories\n",
        "\n",
        "Bar charts are ideal for visualizing categorical data, where the height of each bar represents the value associated with that category."
      ],
      "metadata": {
        "id": "akX4dvdbDrue"
      }
    },
    {
      "cell_type": "code",
      "source": [
        "# Sample data\n",
        "categories = ['A', 'B', 'C', 'D']\n",
        "values = [25, 38, 15, 42]\n",
        "\n",
        "# Create a bar chart\n",
        "plt.figure(figsize=(8, 6))\n",
        "plt.bar(categories, values, color=['skyblue', 'lightcoral', 'gold', 'lightgreen'])\n",
        "plt.xlabel('Categories')\n",
        "plt.ylabel('Values')\n",
        "plt.title('Bar Chart Example')\n",
        "plt.show()"
      ],
      "outputs": [],
      "execution_count": null,
      "metadata": {
        "id": "qOwww77mDruf"
      }
    },
    {
      "cell_type": "markdown",
      "source": [
        "**Key Bar Chart Options:**\n",
        "* `color`: Specify colors for individual bars or use a list of colors.\n",
        "\n",
        "\n",
        "### Histograms: Understanding Distributions\n",
        "\n",
        "Histograms show the frequency distribution of a single numerical variable. They divide the range of values into bins and display the count of observations falling into each bin."
      ],
      "metadata": {
        "id": "aqzzskgpDrug"
      }
    },
    {
      "cell_type": "code",
      "source": [
        "# Sample data\n",
        "data = np.random.normal(0, 1, 1000)\n",
        "\n",
        "# Create a histogram\n",
        "plt.figure(figsize=(8, 6))\n",
        "plt.hist(data, bins=20, color='skyblue', alpha=0.7)\n",
        "plt.xlabel('Values')\n",
        "plt.ylabel('Frequency')\n",
        "plt.title('Histogram Example')\n",
        "plt.show()"
      ],
      "outputs": [],
      "execution_count": null,
      "metadata": {
        "id": "U5cRY3biDrug"
      }
    },
    {
      "cell_type": "markdown",
      "source": [
        "**Key Histogram Options:**\n",
        "* `bins`: Control the number of bins or directly specify bin edges.\n",
        "* `density`: Normalize the histogram to show probabilities instead of counts.\n",
        "\n",
        "### Box Plots: Unveiling Five-Number Summaries\n",
        "\n",
        "Box plots succinctly summarize the distribution of a dataset using the five-number summary: minimum, first quartile (Q1), median, third quartile (Q3), and maximum. They're great for identifying outliers and comparing distributions."
      ],
      "metadata": {
        "id": "d4uPNE9ZDrug"
      }
    },
    {
      "cell_type": "code",
      "source": [
        "df = pd.read_excel('/content/automobile_dataset.xlsx')\n",
        "data_to_plot = [df[df['Car origin'] == origin]['Price'] for origin in df['Car origin'].unique()]\n",
        "\n",
        "# Create a box plot\n",
        "plt.figure(figsize=(8, 6))\n",
        "plt.boxplot(data_to_plot)\n",
        "plt.xlabel('Car Origin')\n",
        "plt.ylabel('Price')\n",
        "plt.title('Box Plot Example')\n",
        "plt.xticks([1, 2], ['Domestic', 'Foreign'])  # Set custom x-tick labels\n",
        "plt.show()"
      ],
      "outputs": [],
      "execution_count": null,
      "metadata": {
        "id": "R616C4RKDruh"
      }
    },
    {
      "cell_type": "markdown",
      "source": [
        "### Saving and Customization\n",
        "\n",
        "**Saving Your Plots:**"
      ],
      "metadata": {
        "id": "Zks1p46fDrui"
      }
    },
    {
      "cell_type": "code",
      "source": [
        "# Save the figure in PNG format\n",
        "\n",
        "# Create a box plot\n",
        "plt.figure(figsize=(8, 6))\n",
        "plt.boxplot(data_to_plot)\n",
        "plt.xlabel('Car Origin')\n",
        "plt.ylabel('Price')\n",
        "plt.title('Box Plot Example')\n",
        "plt.xticks([1, 2], ['Domestic', 'Foreign'])  # Set custom x-tick labels\n",
        "\n",
        "plt.savefig('my_plot.png') # Goes before the plt.show() command\n",
        "\n",
        "plt.show()\n",
        "\n"
      ],
      "outputs": [],
      "execution_count": null,
      "metadata": {
        "id": "GQw1QxflDruj"
      }
    },
    {
      "cell_type": "markdown",
      "source": [
        "You can replace `'my_plot.png'` with your desired filename and choose other formats like PDF or SVG.\n",
        "**Adding Legends:**"
      ],
      "metadata": {
        "id": "wfEl2u9MDruj"
      }
    },
    {
      "cell_type": "code",
      "source": [
        "# Create a box plot\n",
        "plt.figure(figsize=(8, 6))\n",
        "plt.boxplot(data_to_plot)\n",
        "plt.xlabel('Car Origin')\n",
        "plt.ylabel('Price')\n",
        "plt.title('Box Plot Example')\n",
        "plt.xticks([1, 2], ['Domestic', 'Foreign'])  # Set custom x-tick labels\n",
        "\n",
        "plt.legend(['Data 1', 'Data 2'], loc='upper right')  # Place legend in the upper right corner - before the save and show commands\n",
        "plt.savefig('my_plot.png') # Goes before the plt.show() command\n",
        "\n",
        "plt.show()\n"
      ],
      "outputs": [],
      "execution_count": null,
      "metadata": {
        "id": "fy6alEfzDruj"
      }
    },
    {
      "cell_type": "code",
      "source": [],
      "metadata": {
        "id": "wvaQ_KKCEoDt"
      },
      "execution_count": null,
      "outputs": []
    }
  ],
  "metadata": {
    "colab": {
      "provenance": []
    },
    "kernelspec": {
      "display_name": "Python 3",
      "name": "python3"
    }
  },
  "nbformat": 4,
  "nbformat_minor": 0
}