{
  "cells": [
    {
      "cell_type": "markdown",
      "source": [
        "# Understanding Regression and Classification: The Two Pillars of Supervised Machine Learning\n",
        "\n",
        "In supervised machine learning, we teach algorithms to learn from labeled data, aiming to make predictions or classifications on new, unseen data. There are two main types of tasks we can tackle:\n",
        "\n",
        "## Regression\n",
        "  \n",
        "  Goal: Predict a continuous numerical value. Think of it like estimating a number on a scale.\n",
        "  \n",
        "  Examples:\n",
        "  * Predicting house prices based on square footage, number of bedrooms, and location.\n",
        "  * Forecasting stock prices based on historical trends and financial indicators.\n",
        "  * Estimating crop yields based on weather conditions and soil quality.\n",
        "  \n",
        "**Models:**\n",
        "  * Linear Regression\n",
        "  * Polynomial Regression\n",
        "  * Decision Tree Regression\n",
        "  * Random Forest Regression\n",
        "  * Support Vector Regression (SVR)  \n",
        "  * Neural Networks (for more complex relationships)\n",
        "\n",
        "## Classification\n",
        "  \n",
        "  Goal: Predict a category or class label. Think of it like sorting items into different boxes.\n",
        "\n",
        "  Examples:\n",
        "\n",
        "  * Classifying emails as spam or not spam.\n",
        "  * Determining if a customer will churn (leave) based on their usage patterns.\n",
        "  * Identifying whether a tumor is malignant or benign from medical images.\n",
        "  \n",
        "**Models:**\n",
        "  * Logistic Regression\n",
        "  * Decision Tree Classifier\n",
        "  * Random Forest Classifier\n",
        "  * Support Vector Machine (SVM)\n",
        "  * Naive Bayes\n",
        "  * K-Nearest Neighbors (KNN)\n",
        "  * Neural Networks (especially for image or text classification)\n",
        "\n",
        "\n",
        "\n",
        "## Key Differences\n",
        "\n",
        "**Target Variable:**\n",
        "* Regression: Continuous numerical value (e.g., price, temperature, salary)\n",
        "* Classification: Categorical label (e.g., spam/not spam, red/green/blue, yes/no)\n",
        "\n",
        "**Model Output:**\n",
        "* Regression: Predicted numerical value\n",
        "* Classification: Predicted class label or probability of belonging to each class\n",
        "\n",
        "**Model Types:**\n",
        "* Regression: Linear regression, polynomial regression, decision tree regression, etc.\n",
        "* Classification: Logistic regression, decision tree classifier, random forest classifier, etc.\n",
        "\n",
        "**Evaluation Metrics:**\n",
        "\n",
        "* Regression: Mean Squared Error (MSE), R-squared, Mean Absolute Error (MAE), etc.\n",
        "* Classification: Accuracy, Precision, Recall, F1-score, ROC-AUC curve, etc.\n",
        "\n",
        "\n",
        "**Purpose:**\n",
        "\n",
        "* Regression: Predict or forecast a numerical outcome based on input features.\n",
        "\n",
        "* Classification: Assign data points to predefined categories or classes based on their characteristics.\n",
        "\n",
        "\n",
        "**Which One to Use?**\n",
        "\n",
        "The choice between regression and classification depends on the type of problem you're trying to solve. If your goal is to predict a number, go with regression. If you want to categorize or label something, use classification.\n",
        "Important\n",
        "\n",
        "Note: In both cases, the quality of your model depends heavily on the quality and relevance of your data.\n"
      ],
      "metadata": {
        "id": "nv_w4mplpgaD"
      }
    },
    {
      "cell_type": "markdown",
      "source": [
        "\n",
        "**Fundamentals of Machine Learning with California Housing Data**\n",
        "\n",
        "**Introduction**\n",
        "\n",
        "Welcome to your first journey into the exciting world of machine learning! In this lesson, we'll use Python, pandas, and scikit-learn to explore real-world housing data, uncover patterns, and build a simple predictive model using linear regression.\n",
        "\n",
        "**1. Setting the Stage: Libraries and Data**"
      ],
      "metadata": {
        "id": "FlWptSybmBqc"
      }
    },
    {
      "cell_type": "code",
      "source": [
        "import pandas as pd\n",
        "import numpy as np\n",
        "import matplotlib.pyplot as plt\n",
        "import seaborn as sns\n",
        "from sklearn.datasets import fetch_california_housing\n",
        "from sklearn.model_selection import train_test_split\n",
        "from sklearn.linear_model import LinearRegression\n",
        "from sklearn.metrics import mean_squared_error, r2_score"
      ],
      "outputs": [],
      "execution_count": null,
      "metadata": {
        "id": "F5ezA6rkmBqh"
      }
    },
    {
      "cell_type": "markdown",
      "source": [
        "* **pandas:** The backbone of data manipulation in Python.\n",
        "* **numpy:** For numerical operations.\n",
        "* **matplotlib & seaborn:** Our tools for visualization.\n",
        "* **scikit-learn:** The machine learning powerhouse."
      ],
      "metadata": {
        "id": "zbiQBht_mBqi"
      }
    },
    {
      "cell_type": "code",
      "source": [
        "# Load the California housing dataset\n",
        "housing = fetch_california_housing(as_frame=True)\n",
        "df = housing.frame\n",
        "\n",
        "# Display the first few rows\n",
        "print(df.head().to_markdown(index=False,numalign='left', stralign='left'))"
      ],
      "outputs": [],
      "execution_count": null,
      "metadata": {
        "id": "t9AUMVHSmBqj"
      }
    },
    {
      "cell_type": "code",
      "source": [
        "# Print the dataset description\n",
        "print(housing.DESCR)"
      ],
      "metadata": {
        "id": "f_oVCdapnroQ"
      },
      "execution_count": null,
      "outputs": []
    },
    {
      "cell_type": "markdown",
      "source": [
        "* The dataset is a dictionary-like object. We extract the DataFrame for analysis.\n",
        "* This code will display the first 5 rows of the dataset.\n",
        "\n",
        "**2. Exploratory Data Analysis (EDA): Getting to Know the Data**"
      ],
      "metadata": {
        "id": "k2VJzAQKmBqj"
      }
    },
    {
      "cell_type": "code",
      "source": [
        "print(df.describe().to_markdown())"
      ],
      "outputs": [],
      "execution_count": null,
      "metadata": {
        "id": "yfJ6ErZPmBqk"
      }
    },
    {
      "cell_type": "markdown",
      "source": [
        "* **`df.describe()`:** This provides the statistical summary of the dataset.\n",
        "* It reveals the count, mean, standard deviation, minimum, maximum and the percentiles (25%, 50%, 75%)."
      ],
      "metadata": {
        "id": "2hs9hffxmBqk"
      }
    },
    {
      "cell_type": "markdown",
      "source": [
        "\n",
        "**Visualizing Feature-Price Relationships**"
      ],
      "metadata": {
        "id": "SSrjXGjbnNma"
      }
    },
    {
      "cell_type": "code",
      "source": [
        "# Define features of interest\n",
        "features_to_plot = ['MedInc', 'HouseAge', 'AveRooms', 'AveBedrms', 'Population']  # Add more as needed\n",
        "\n",
        "# Create subplots for each feature\n",
        "fig, axes = plt.subplots(nrows=len(features_to_plot), ncols=1, figsize=(12, 15))\n",
        "\n",
        "for i, feature in enumerate(features_to_plot):\n",
        "    # Create a scatter plot for the current feature\n",
        "    axes[i].scatter(df[feature], df['MedHouseVal'], alpha=0.5)\n",
        "\n",
        "    # Add regression line\n",
        "    sns.regplot(x=df[feature], y=df['MedHouseVal'], scatter=False, ax=axes[i])\n",
        "\n",
        "    # Add labels and title\n",
        "    axes[i].set_xlabel(feature)\n",
        "    axes[i].set_ylabel('Median House Value')\n",
        "    axes[i].set_title(f'Relationship between {feature} and Median House Value')\n",
        "    axes[i].grid(axis='both', alpha=0.75)\n",
        "\n",
        "# Adjust layout to prevent overlapping\n",
        "plt.tight_layout()\n",
        "plt.show()"
      ],
      "outputs": [],
      "execution_count": null,
      "metadata": {
        "id": "LWlDViUDnNmc"
      }
    },
    {
      "cell_type": "markdown",
      "source": [
        "**Explanation:**\n",
        "\n",
        "1. **Features to Plot:** We define a list of features for which we want to visualize the relationship with the median house value.\n",
        "2. **Subplots:** We create a grid of subplots (one for each feature) using `plt.subplots`.\n",
        "3. **Iteration:** The code loops through each selected feature:\n",
        "   - **Scatter Plot:** Creates a scatter plot with the feature on the x-axis and the median house value on the y-axis.\n",
        "   - **Regression Line:** Adds a regression line (line of best fit) to the scatter plot.\n",
        "   - **Labels and Title:**  Sets informative labels and titles for each subplot.\n",
        "   - **Grid:** Adds a grid for easier interpretation.\n",
        "4. **Layout Adjustment:**  `plt.tight_layout()` is used to ensure that the subplots don't overlap and are visually appealing.\n",
        "5. **Display:**  `plt.show()` displays the final plot.\n",
        "\n",
        "**Key Findings and Interpretation:**\n",
        "\n",
        "* **Visual Trends:** Observe the overall trend in each plot. Is it positive (higher feature value → higher house price), negative, or more complex?\n",
        "* **Linearity:**  Assess whether the relationship seems linear (well-represented by a straight line) or non-linear (curved).\n",
        "* **Outliers:**  Look for any unusual data points (outliers) that might be influencing the regression line.\n",
        "* **Strength of Relationship:**  Visually judge how closely the data points cluster around the regression line. A tight cluster suggests a stronger relationship.\n",
        "\n",
        "**Student Challenges and Notes:**\n",
        "\n",
        "* **Understanding Scatter Plots:** Ensure students understand how to interpret scatter plots and regression lines.\n",
        "* **Non-Linear Relationships:** Discuss that not all relationships are linear. Show examples where polynomial regression or other methods might be more suitable.\n",
        "* **Outlier Detection and Handling:** Introduce the concept of outliers and their potential impact on models. Explain how they can be detected and dealt with."
      ],
      "metadata": {
        "id": "qTYDI3mJnNmd"
      }
    },
    {
      "cell_type": "markdown",
      "source": [
        "* **Distribution plots** help us understand the spread of values (skewness, outliers, etc.)\n",
        "* **Scatter plots** with regression lines help us identify potential relationships.\n",
        "\n",
        "**3. Preparing the Data**"
      ],
      "metadata": {
        "id": "QSWoBfwsmBql"
      }
    },
    {
      "cell_type": "code",
      "source": [
        "# Define features and target\n",
        "X = df.drop('MedHouseVal', axis=1)\n",
        "y = df['MedHouseVal']\n",
        "\n",
        "# Split the data into training and testing sets\n",
        "X_train, X_test, y_train, y_test = train_test_split(X, y, test_size=0.2, random_state=42)"
      ],
      "outputs": [],
      "execution_count": null,
      "metadata": {
        "id": "0Ex0Qbl5mBqm"
      }
    },
    {
      "cell_type": "markdown",
      "source": [
        "* We set aside 20% of our data for testing our model's performance.\n",
        "\n",
        "**4. Building the Linear Regression Model**"
      ],
      "metadata": {
        "id": "cezZOZ8dmBqm"
      }
    },
    {
      "cell_type": "code",
      "source": [
        "model = LinearRegression()\n",
        "model.fit(X_train, y_train)"
      ],
      "outputs": [],
      "execution_count": null,
      "metadata": {
        "id": "2ShA1ZMomBqm"
      }
    },
    {
      "cell_type": "markdown",
      "source": [
        "* We create a linear regression model and train it on our training data.\n",
        "\n",
        "**5. Making Predictions and Evaluating**"
      ],
      "metadata": {
        "id": "amekFSoUmBqm"
      }
    },
    {
      "cell_type": "code",
      "source": [
        "# Predict on the test set\n",
        "y_pred = model.predict(X_test)\n",
        "\n",
        "# Evaluate the model\n",
        "mse = mean_squared_error(y_test, y_pred)\n",
        "r2 = r2_score(y_test, y_pred)\n",
        "\n",
        "print(f'Mean Squared Error: {mse:.2f}')\n",
        "print(f'R-squared: {r2:.2f}')"
      ],
      "outputs": [],
      "execution_count": null,
      "metadata": {
        "id": "9R1tFUclmBqn"
      }
    },
    {
      "cell_type": "markdown",
      "source": [
        "* We evaluate the model using Mean Squared Error and R-squared.\n",
        "* The code will display the results for each of the mentioned evaluation metrics."
      ],
      "metadata": {
        "id": "iOjzOMnSmBqn"
      }
    },
    {
      "cell_type": "markdown",
      "source": [
        "\n",
        "\n",
        "**6. Examining Feature Importance**"
      ],
      "metadata": {
        "id": "-45HA6KTmUTp"
      }
    },
    {
      "cell_type": "code",
      "source": [
        "# Get the feature coefficients\n",
        "coefficients = pd.DataFrame({'Feature': X.columns, 'Coefficient': model.coef_})\n",
        "\n",
        "# Sort the coefficients by absolute value (magnitude)\n",
        "coefficients = coefficients.reindex(coefficients['Coefficient'].abs().sort_values(ascending=False).index)\n",
        "\n",
        "# Display the coefficients\n",
        "print(\"Feature Importance:\\n\", coefficients.to_markdown(index=False))"
      ],
      "outputs": [],
      "execution_count": null,
      "metadata": {
        "id": "2pg7O3a8mUTr"
      }
    },
    {
      "cell_type": "markdown",
      "source": [
        "* **Explanation:**\n",
        "    * We create a DataFrame to store feature names and their corresponding coefficients from the trained model.\n",
        "    * Sorting by absolute value reveals the magnitude of the impact (positive or negative) each feature has on the predicted median house value.\n",
        "    * We print this table to understand which features are most influential."
      ],
      "metadata": {
        "id": "nqHFwhJzmUTs"
      }
    },
    {
      "cell_type": "code",
      "source": [
        "# Visualize feature importance\n",
        "plt.figure(figsize=(12, 6))\n",
        "sns.barplot(data=coefficients, x='Coefficient', y='Feature')\n",
        "plt.title('Feature Importance (Absolute Coefficients)')\n",
        "plt.xlabel('Coefficient Value')\n",
        "plt.ylabel('Feature')\n",
        "plt.grid(axis='x', alpha=0.75)\n",
        "plt.show()"
      ],
      "outputs": [],
      "execution_count": null,
      "metadata": {
        "id": "y_lBMvkYmUTs"
      }
    },
    {
      "cell_type": "markdown",
      "source": [
        "* **Explanation:**\n",
        "    * The bar chart provides a visual representation of the feature importance table.\n",
        "    * The length of the bar indicates the magnitude of the coefficient, while the direction (positive or negative) signifies whether a higher feature value is associated with a higher or lower predicted house value.\n",
        "\n",
        "**Key Findings and Interpretation:**\n",
        "\n",
        "* The features with the largest absolute coefficients have the most substantial impact on the predicted median house value.\n",
        "* Positive coefficients imply that as the feature value increases, the predicted house value also increases.\n",
        "* Negative coefficients imply the opposite relationship (e.g., higher value of the feature means lower predicted house value).\n",
        "* Features with coefficients close to zero have minimal influence on the predicted outcome.\n",
        "\n",
        "**Student Challenges and Notes:**\n",
        "\n",
        "* **Understanding Model Behavior:** Challenge students to interpret the results. Which features are most critical? Does the model align with their intuition about real estate?\n",
        "* **Feature Scaling:** If features have vastly different scales, some models might overemphasize the importance of features with larger values. Discuss feature scaling techniques (like standardization) to address this.\n",
        "* **Advanced Feature Selection:** Introduce students to techniques like recursive feature elimination for further refining the model.\n"
      ],
      "metadata": {
        "id": "5mP63Kj4mUTt"
      }
    },
    {
      "cell_type": "markdown",
      "source": [
        "<div class=\"md-recitation\">\n",
        "  Sources\n",
        "  <ol>\n",
        "  <li><a href=\"https://www.techladder.in/article/decision-tree-detailed-explanation\">https://www.techladder.in/article/decision-tree-detailed-explanation</a></li>\n",
        "  <li><a href=\"https://github.com/ecemekim/BasicMachineLearningAlgorithms\">https://github.com/ecemekim/BasicMachineLearningAlgorithms</a></li>\n",
        "  <li><a href=\"https://github.com/mariyan-stephen/California--Housing-Price-Prediction\">https://github.com/mariyan-stephen/California--Housing-Price-Prediction</a></li>\n",
        "  <li><a href=\"https://github.com/Psychevus/python-scikit-learn\">https://github.com/Psychevus/python-scikit-learn</a> subject to MIT</li>\n",
        "  <li><a href=\"https://medium.com/@johnmccool_83148/predict-customer-nps-with-machine-learning-8aab1a2aeee1\">https://medium.com/@johnmccool_83148/predict-customer-nps-with-machine-learning-8aab1a2aeee1</a></li>\n",
        "  <li><a href=\"https://github.com/shivareddy0117/HousePricePrediction_CaliforniaHOusesDataSet\">https://github.com/shivareddy0117/HousePricePrediction_CaliforniaHOusesDataSet</a></li>\n",
        "  </ol>\n",
        "</div>"
      ],
      "metadata": {
        "id": "SCMSARsfmBqn"
      }
    }
  ],
  "metadata": {
    "colab": {
      "provenance": []
    },
    "kernelspec": {
      "display_name": "Python 3",
      "name": "python3"
    }
  },
  "nbformat": 4,
  "nbformat_minor": 0
}