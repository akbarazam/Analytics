{
  "nbformat": 4,
  "nbformat_minor": 0,
  "metadata": {
    "colab": {
      "provenance": []
    },
    "kernelspec": {
      "name": "python3",
      "display_name": "Python 3"
    },
    "language_info": {
      "name": "python"
    }
  },
  "cells": [
    {
      "cell_type": "markdown",
      "source": [
        "# Dictionaries"
      ],
      "metadata": {
        "id": "I31mQoDyTb0b"
      }
    },
    {
      "cell_type": "markdown",
      "source": [
        "## The _help_ function"
      ],
      "metadata": {
        "id": "zKXGvQFeTj7l"
      }
    },
    {
      "cell_type": "code",
      "execution_count": null,
      "metadata": {
        "id": "mvoYI3kCGcpe"
      },
      "outputs": [],
      "source": [
        "help(dict)"
      ]
    },
    {
      "cell_type": "markdown",
      "source": [
        "## Examples\n",
        "What will each of the following print commands print?"
      ],
      "metadata": {
        "id": "sEuioGVjTr0i"
      }
    },
    {
      "cell_type": "code",
      "source": [
        "country_capitals = {\"England\": \"London\", \"Italy\": \"Rome\"}\n",
        "\n",
        "# get dictionary's length\n",
        "print(len(country_capitals))   # Output: 2\n",
        "\n",
        "numbers = {10: \"ten\", 20: \"twenty\", 30: \"thirty\"}\n",
        "\n",
        "# get dictionary's length\n",
        "print(len(numbers))            # Output: 3\n",
        "\n",
        "countries = {}\n",
        "\n",
        "# get dictionary's length\n",
        "print(len(countries))          # Output: 0"
      ],
      "metadata": {
        "colab": {
          "base_uri": "https://localhost:8080/"
        },
        "id": "vMFINmyuGkxl",
        "outputId": "d88ad622-ba94-4dad-a7b7-a859a6c0368c"
      },
      "execution_count": null,
      "outputs": [
        {
          "output_type": "stream",
          "name": "stdout",
          "text": [
            "2\n",
            "3\n",
            "0\n"
          ]
        }
      ]
    },
    {
      "cell_type": "code",
      "source": [
        "name = \"test\""
      ],
      "metadata": {
        "id": "emoKq3E1-g1L"
      },
      "execution_count": null,
      "outputs": []
    },
    {
      "cell_type": "markdown",
      "source": [],
      "metadata": {
        "id": "Clojglhd-ksN"
      }
    },
    {
      "cell_type": "code",
      "source": [
        "name."
      ],
      "metadata": {
        "colab": {
          "base_uri": "https://localhost:8080/",
          "height": 35
        },
        "id": "ebtYQ4IA-lU_",
        "outputId": "b3e6f331-e7db-419b-832e-5fd9e3ddcfcf"
      },
      "execution_count": null,
      "outputs": [
        {
          "output_type": "execute_result",
          "data": {
            "text/plain": [
              "'tbst'"
            ],
            "application/vnd.google.colaboratory.intrinsic+json": {
              "type": "string"
            }
          },
          "metadata": {},
          "execution_count": 3
        }
      ]
    },
    {
      "cell_type": "markdown",
      "source": [
        "## Checking which keys are present"
      ],
      "metadata": {
        "id": "smDD20_BTyaV"
      }
    },
    {
      "cell_type": "code",
      "source": [
        "file_types = {\n",
        "    \".txt\": \"Text File\",\n",
        "    \".pdf\": \"PDF Document\",\n",
        "    \".jpg\": \"JPEG Image\",\n",
        "}\n",
        "\n",
        "# use of in and not in operators\n",
        "print(\".pdf\" in file_types.values())       # Output: True\n",
        "print(\".mp3\" in file_types)       # Output: False\n",
        "print(\".mp3\" not in file_types)   # Output: True"
      ],
      "metadata": {
        "colab": {
          "base_uri": "https://localhost:8080/"
        },
        "id": "-fgcUU55G6p3",
        "outputId": "1f9e83a2-00e6-47da-b361-a4184275ebdd"
      },
      "execution_count": null,
      "outputs": [
        {
          "output_type": "stream",
          "name": "stdout",
          "text": [
            "False\n",
            "False\n",
            "True\n"
          ]
        }
      ]
    },
    {
      "cell_type": "code",
      "source": [
        "file_types.values()"
      ],
      "metadata": {
        "colab": {
          "base_uri": "https://localhost:8080/"
        },
        "id": "oLpjAcFXFREk",
        "outputId": "a5144b7d-e073-4144-ec85-9d4bf180335d"
      },
      "execution_count": null,
      "outputs": [
        {
          "output_type": "execute_result",
          "data": {
            "text/plain": [
              "dict_values(['Text File', 'PDF Document', 'JPEG Image'])"
            ]
          },
          "metadata": {},
          "execution_count": 7
        }
      ]
    },
    {
      "cell_type": "markdown",
      "source": [
        "## Adding key-value pairs to an existing dictionary"
      ],
      "metadata": {
        "id": "Xqy8ff0DT3_G"
      }
    },
    {
      "cell_type": "code",
      "source": [
        "person = {\n",
        "    \"first_name\": \"John\",\n",
        "    \"last_name\": \"Doe\",\n",
        "    \"nationality\": \"Canada\",\n",
        "    \"birth_year\": 1980\n",
        "}\n",
        "\n",
        "print(person)"
      ],
      "metadata": {
        "colab": {
          "base_uri": "https://localhost:8080/"
        },
        "id": "ZQeKLyyCSIO_",
        "outputId": "e17924e5-d252-4e81-ac1c-67db6b6b7838"
      },
      "execution_count": null,
      "outputs": [
        {
          "output_type": "stream",
          "name": "stdout",
          "text": [
            "{'first_name': 'John', 'last_name': 'Doe', 'nationality': 'Canada', 'birth_year': 1980}\n"
          ]
        }
      ]
    },
    {
      "cell_type": "code",
      "source": [
        "print(person.values())"
      ],
      "metadata": {
        "colab": {
          "base_uri": "https://localhost:8080/"
        },
        "id": "-4M2wYTGSKGn",
        "outputId": "60d9c3f0-2b2b-41fc-a11f-a35b55986175"
      },
      "execution_count": null,
      "outputs": [
        {
          "output_type": "stream",
          "name": "stdout",
          "text": [
            "dict_values(['John', 'Doe', 'Canada', 1980])\n"
          ]
        }
      ]
    },
    {
      "cell_type": "code",
      "source": [
        "person[\"age\"]=\"44\""
      ],
      "metadata": {
        "id": "y4ssenEnSRxy"
      },
      "execution_count": null,
      "outputs": []
    },
    {
      "cell_type": "code",
      "source": [
        "print(person)"
      ],
      "metadata": {
        "colab": {
          "base_uri": "https://localhost:8080/"
        },
        "id": "mtb5R2HESv9u",
        "outputId": "402900a2-05e3-444e-be64-a683f1a65c5b"
      },
      "execution_count": null,
      "outputs": [
        {
          "output_type": "stream",
          "name": "stdout",
          "text": [
            "{'first_name': 'John', 'last_name': 'Doe', 'nationality': 'Canada', 'birth_year': 1980, 'age': '44'}\n"
          ]
        }
      ]
    },
    {
      "cell_type": "markdown",
      "source": [
        "# Lists"
      ],
      "metadata": {
        "id": "JpQh_0SFTZJU"
      }
    },
    {
      "cell_type": "markdown",
      "source": [
        "## Lists can be of numbers, strings, dictionaries, lists..."
      ],
      "metadata": {
        "id": "sBCdSHK-UHDu"
      }
    },
    {
      "cell_type": "code",
      "source": [
        "primes = [2, 3, 5, 7, 11]\n",
        "\n",
        "users = [\"Alice\", \"Bob\", \"Charlie\"]\n",
        "\n",
        "products = [\n",
        "    {\"name\": \"IPhone 12\", \"price\": 949},\n",
        "    {\"name\": \"Fairphone\", \"price\": 419},\n",
        "    {\"name\": \"Pixel 5\", \"price\": 799}\n",
        "]"
      ],
      "metadata": {
        "id": "uzV7hBIwTa0j"
      },
      "execution_count": null,
      "outputs": []
    },
    {
      "cell_type": "code",
      "source": [
        "dict1 = {\"name\": \"IPhone 14\", \"price\": 949}\n",
        "dict2 = {\"name\": \"Fairphone 2\", \"price\": 419},\n",
        "products.append(dict1)\n",
        "products.append(dict2)\n",
        "products.pop()\n",
        "print(products)"
      ],
      "metadata": {
        "colab": {
          "base_uri": "https://localhost:8080/"
        },
        "id": "pE1ycLFWPh9i",
        "outputId": "24bf4d04-36bb-4259-f3a9-c415dfa0939f"
      },
      "execution_count": null,
      "outputs": [
        {
          "output_type": "stream",
          "name": "stdout",
          "text": [
            "[{'name': 'IPhone 12', 'price': 949}, {'name': 'Fairphone', 'price': 419}, {'name': 'Pixel 5', 'price': 799}, {'name': 'IPhone 14', 'price': 949}, ({'name': 'Fairphone 2', 'price': 419},), {'name': 'IPhone 14', 'price': 949}]\n"
          ]
        }
      ]
    },
    {
      "cell_type": "markdown",
      "source": [
        "## Indexing\n",
        "Lists are ordered - indeces start at 0.\n",
        "\n",
        "You can access the end of the list by using -1, -2, ..."
      ],
      "metadata": {
        "id": "yn28fhWIUVmK"
      }
    },
    {
      "cell_type": "code",
      "source": [
        "users = [\"Alice\", \"Bob\", \"Charlie\", \"Angie\"]\n",
        "\n",
        "print(users[0])\n",
        "print(users[1])\n",
        "\n",
        "print(users[-1]) # last element"
      ],
      "metadata": {
        "colab": {
          "base_uri": "https://localhost:8080/"
        },
        "id": "chaZuMuRUUr8",
        "outputId": "4b3967b4-cb55-4928-9299-eeb1138a091d"
      },
      "execution_count": null,
      "outputs": [
        {
          "output_type": "stream",
          "name": "stdout",
          "text": [
            "Alice\n",
            "Bob\n",
            "Angie\n"
          ]
        }
      ]
    },
    {
      "cell_type": "code",
      "source": [
        "print(users[-2])"
      ],
      "metadata": {
        "colab": {
          "base_uri": "https://localhost:8080/"
        },
        "id": "jdhIdHZWUsGz",
        "outputId": "bf9e5d4d-f71b-4190-ab79-9a264bf6779d"
      },
      "execution_count": null,
      "outputs": [
        {
          "output_type": "stream",
          "name": "stdout",
          "text": [
            "Charlie\n"
          ]
        }
      ]
    },
    {
      "cell_type": "code",
      "source": [
        "products.sort()"
      ],
      "metadata": {
        "colab": {
          "base_uri": "https://localhost:8080/",
          "height": 141
        },
        "id": "rgd6XpEoUy1p",
        "outputId": "2695fbe4-bdce-473d-8180-ac17c568a831"
      },
      "execution_count": null,
      "outputs": [
        {
          "output_type": "error",
          "ename": "TypeError",
          "evalue": "'<' not supported between instances of 'dict' and 'dict'",
          "traceback": [
            "\u001b[0;31m---------------------------------------------------------------------------\u001b[0m",
            "\u001b[0;31mTypeError\u001b[0m                                 Traceback (most recent call last)",
            "\u001b[0;32m<ipython-input-20-3629ea1f4c44>\u001b[0m in \u001b[0;36m<cell line: 1>\u001b[0;34m()\u001b[0m\n\u001b[0;32m----> 1\u001b[0;31m \u001b[0mproducts\u001b[0m\u001b[0;34m.\u001b[0m\u001b[0msort\u001b[0m\u001b[0;34m(\u001b[0m\u001b[0;34m)\u001b[0m\u001b[0;34m\u001b[0m\u001b[0;34m\u001b[0m\u001b[0m\n\u001b[0m",
            "\u001b[0;31mTypeError\u001b[0m: '<' not supported between instances of 'dict' and 'dict'"
          ]
        }
      ]
    },
    {
      "cell_type": "code",
      "source": [
        "print(users)"
      ],
      "metadata": {
        "colab": {
          "base_uri": "https://localhost:8080/"
        },
        "id": "gfaBO917U4Bc",
        "outputId": "1c273aac-a427-44c6-f05a-734149a61cc3"
      },
      "execution_count": null,
      "outputs": [
        {
          "output_type": "stream",
          "name": "stdout",
          "text": [
            "['Alice', 'Angie', 'Bob', 'Charlie']\n"
          ]
        }
      ]
    },
    {
      "cell_type": "code",
      "source": [
        "# prompt: Write a code to illustrate the methods available for lists with a list of integers. Add detailed comments.\n",
        "\n",
        "# Create a list of integers\n",
        "numbers = [1, 2, 3, 4, 5]\n",
        "\n",
        "# Print the list\n",
        "print(\"Original list:\")\n",
        "print(numbers)\n",
        "\n",
        "# Add an element to the end of the list\n",
        "numbers.append(6)\n",
        "\n",
        "# Print the list after adding an element\n",
        "print(\"List after adding an element:\")\n",
        "print(numbers)\n",
        "\n",
        "# Insert an element at a specific index\n",
        "numbers.insert(2, 10)\n",
        "\n",
        "# Print the list after inserting an element\n",
        "print(\"List after inserting an element:\")\n",
        "print(numbers)\n",
        "\n",
        "# Remove the first occurrence of an element\n",
        "numbers.remove(1)\n",
        "\n",
        "# Print the list after removing an element\n",
        "print(\"List after removing an element:\")\n",
        "print(numbers)\n",
        "\n",
        "# Pop the last element from the list\n",
        "numbers.pop()\n",
        "\n",
        "# Print the list after popping an element\n",
        "print(\"List after popping an element:\")\n",
        "print(numbers)\n",
        "\n",
        "# Reverse the order of the elements in the list\n",
        "numbers.reverse()\n",
        "\n",
        "# Print the list after reversing\n",
        "print(\"List after reversing:\")\n",
        "print(numbers)\n",
        "\n",
        "# Sort the list in ascending order\n",
        "numbers.sort()\n",
        "\n",
        "# Print the list after sorting\n",
        "print(\"List after sorting:\")\n",
        "print(numbers)\n",
        "\n",
        "# Clear the list\n",
        "numbers.clear()\n",
        "\n",
        "# Print the list after clearing\n",
        "print(\"List after clearing:\")\n",
        "print(numbers)\n"
      ],
      "metadata": {
        "id": "CmWsTN5xU5kO"
      },
      "execution_count": null,
      "outputs": []
    },
    {
      "cell_type": "code",
      "source": [
        "# prompt: Write a code to illustrate the methods available for dictionaries. Add comments to explain the code.\n",
        "\n",
        "# Create a dictionary\n",
        "my_dict = {\"name\": \"John\", \"age\": 30, \"city\": \"New York\"}\n",
        "\n",
        "# Print the dictionary\n",
        "print(\"Original dictionary:\")\n",
        "print(my_dict)\n",
        "\n",
        "# Add a new key-value pair to the dictionary\n",
        "my_dict[\"profession\"] = \"Software Engineer\"\n",
        "\n",
        "# Print the dictionary after adding a new key-value pair\n",
        "print(\"Dictionary after adding a new key-value pair:\")\n",
        "print(my_dict)\n",
        "\n",
        "# Update the value of an existing key\n",
        "my_dict[\"age\"] = 31\n",
        "\n",
        "# Print the dictionary after updating a value\n",
        "print(\"Dictionary after updating a value:\")\n",
        "print(my_dict)\n",
        "\n",
        "# Remove a key-value pair from the dictionary\n",
        "del my_dict[\"city\"]\n",
        "\n",
        "# Print the dictionary after removing a key-value pair\n",
        "print(\"Dictionary after removing a key-value pair:\")\n",
        "print(my_dict)\n",
        "\n",
        "# Clear all the key-value pairs from the dictionary\n",
        "my_dict.clear()\n",
        "\n",
        "# Print the dictionary after clearing\n",
        "print(\"Dictionary after clearing:\")\n",
        "print(my_dict)\n"
      ],
      "metadata": {
        "id": "d5uv1QbP5xbx"
      },
      "execution_count": null,
      "outputs": []
    },
    {
      "cell_type": "code",
      "source": [
        "products[0].pop(\"name\")"
      ],
      "metadata": {
        "colab": {
          "base_uri": "https://localhost:8080/",
          "height": 35
        },
        "id": "D-27XOkNTYOT",
        "outputId": "22289a57-03c0-4ad0-f45e-ba09e9911dbd"
      },
      "execution_count": null,
      "outputs": [
        {
          "output_type": "execute_result",
          "data": {
            "text/plain": [
              "'IPhone 12'"
            ],
            "application/vnd.google.colaboratory.intrinsic+json": {
              "type": "string"
            }
          },
          "metadata": {},
          "execution_count": 30
        }
      ]
    },
    {
      "cell_type": "code",
      "source": [
        "a = [1, 2, 3]"
      ],
      "metadata": {
        "id": "vekHfiqPTdqC"
      },
      "execution_count": null,
      "outputs": []
    },
    {
      "cell_type": "code",
      "source": [
        "b = a.copy()"
      ],
      "metadata": {
        "id": "1-WjApJnWjJ7"
      },
      "execution_count": null,
      "outputs": []
    },
    {
      "cell_type": "code",
      "source": [
        "b.append(4)"
      ],
      "metadata": {
        "id": "V8zSbXnnWm0A"
      },
      "execution_count": null,
      "outputs": []
    },
    {
      "cell_type": "code",
      "source": [
        "print(a)\n",
        "print(b)"
      ],
      "metadata": {
        "id": "RGWMZLS9Wry9",
        "outputId": "e1cb4625-d009-4e30-a80f-f41be63fe223",
        "colab": {
          "base_uri": "https://localhost:8080/"
        }
      },
      "execution_count": null,
      "outputs": [
        {
          "output_type": "stream",
          "name": "stdout",
          "text": [
            "[1, 2, 3]\n",
            "[1, 2, 3, 4]\n"
          ]
        }
      ]
    },
    {
      "cell_type": "code",
      "source": [],
      "metadata": {
        "id": "aL-AyhE5Wt8M"
      },
      "execution_count": null,
      "outputs": []
    }
  ]
}