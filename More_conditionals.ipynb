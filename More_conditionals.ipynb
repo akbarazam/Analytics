{
  "cells": [
    {
      "cell_type": "markdown",
      "source": [
        "## Let's Learn About `and` and `or`\n",
        "\n",
        "### Understanding `and`\n",
        "The `and` operator checks if both conditions are True. If both are True, the overall expression is True."
      ],
      "metadata": {
        "id": "aGtIb6J0Gqd1"
      }
    },
    {
      "cell_type": "code",
      "source": [
        "x = 10\n",
        "y = 5\n",
        "\n",
        "if x > 5 and y < 10:\n",
        "  print(\"Both conditions are True!\")\n",
        "else:\n",
        "  print(\"One or both conditions are False.\")"
      ],
      "outputs": [],
      "execution_count": null,
      "metadata": {
        "id": "_WMCkY_2Gqd5"
      }
    },
    {
      "cell_type": "markdown",
      "source": [
        "### Understanding `or`\n",
        "The `or` operator checks if at least one condition is True. If one or both are True, the overall expression is True."
      ],
      "metadata": {
        "id": "jzQq4UG6Gqd6"
      }
    },
    {
      "cell_type": "code",
      "source": [
        "x = 3\n",
        "y = 8\n",
        "\n",
        "if x > 5 or y < 10:\n",
        "  print(\"At least one condition is True!\")\n",
        "else:\n",
        "  print(\"Both conditions are False.\")"
      ],
      "outputs": [],
      "execution_count": null,
      "metadata": {
        "id": "3qkjHPslGqd7"
      }
    },
    {
      "cell_type": "markdown",
      "source": [
        "### Interactive Quiz: True or False?\n",
        "Let's test your understanding!"
      ],
      "metadata": {
        "id": "vnOCFtGrGqd7"
      }
    },
    {
      "cell_type": "code",
      "source": [
        "import random\n",
        "\n",
        "def quiz(question, answer):\n",
        "  user_answer = input(question + \" (True/False): \")\n",
        "  if user_answer.lower() == answer.lower():\n",
        "    print(\"Correct!\")\n",
        "  else:\n",
        "    print(\"Incorrect. The answer is\", answer)\n",
        "\n",
        "quiz(\"True or False: 5 > 3 and 2 < 1 is True?\", \"False\")\n",
        "quiz(\"True or False: 5 > 3 or 2 < 1 is True?\", \"True\")"
      ],
      "outputs": [],
      "execution_count": null,
      "metadata": {
        "id": "IYx_LdRqGqd7"
      }
    },
    {
      "cell_type": "markdown",
      "source": [
        "### Let's Check Your Age\n",
        "Let's write a program to determine if someone is eligible to vote or drive."
      ],
      "metadata": {
        "id": "dT2f1y9KGqd8"
      }
    },
    {
      "cell_type": "code",
      "source": [
        "age = int(input(\"Enter your age: \"))\n",
        "\n",
        "if age >= 18:\n",
        "  print(\"You are eligible to vote!\")\n",
        "else:\n",
        "  print(\"You are not eligible to vote yet.\")\n",
        "\n",
        "if age >= 16:\n",
        "  print(\"You are eligible to drive!\")\n",
        "else:\n",
        "  print(\"You are not eligible to drive yet.\")"
      ],
      "outputs": [],
      "execution_count": null,
      "metadata": {
        "id": "F0O2Z_qpGqd8"
      }
    },
    {
      "cell_type": "markdown",
      "source": [
        "### Weather Check\n",
        "Let's check the weather and decide what to wear."
      ],
      "metadata": {
        "id": "TFl742rhGqd9"
      }
    },
    {
      "cell_type": "code",
      "source": [
        "temperature = int(input(\"Enter the temperature in degrees Fahrenheit: \"))\n",
        "is_raining = input(\"Is it raining? (yes/no): \")\n",
        "\n",
        "if temperature > 80 and is_raining == \"no\":\n",
        "  print(\"Wear shorts and a t-shirt.\")\n",
        "elif temperature > 80 and is_raining == \"yes\":\n",
        "  print(\"Wear shorts and a raincoat.\")\n",
        "elif temperature <= 80 and is_raining == \"no\":\n",
        "  print(\"Wear jeans and a sweater.\")\n",
        "else:\n",
        "  print(\"Wear jeans and a raincoat.\")"
      ],
      "outputs": [],
      "execution_count": null,
      "metadata": {
        "id": "VnOKRsi3Gqd9"
      }
    },
    {
      "cell_type": "markdown",
      "source": [
        "<div class=\"md-recitation\">\n",
        "  Sources\n",
        "  <ol>\n",
        "  <li><a href=\"https://github.com/caryssingh/ITP270-PYTHON\">https://github.com/caryssingh/ITP270-PYTHON</a></li>\n",
        "  </ol>\n",
        "</div>"
      ],
      "metadata": {
        "id": "8_PXrEhnGqd-"
      }
    }
  ],
  "metadata": {
    "colab": {
      "provenance": []
    },
    "kernelspec": {
      "display_name": "Python 3",
      "name": "python3"
    }
  },
  "nbformat": 4,
  "nbformat_minor": 0
}