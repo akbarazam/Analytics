{
  "cells": [
    {
      "cell_type": "markdown",
      "source": [
        "## Getting User Input in Python: An Interactive Adventure!\n",
        "\n",
        "This Jupyter Notebook will guide you through the exciting world of getting user input in Python! Buckle up and get ready to write code that interacts with you!\n",
        "\n",
        "**Cells:**\n",
        "\n",
        "This notebook is divided into cells. Each cell contains code (`.py`) or explanations (`.markdown`). You can run the code cells by pressing `Shift + Enter`. Text cells won't be executed but provide information.\n",
        "\n",
        "**Let's Begin!**"
      ],
      "metadata": {
        "id": "FbgvPNmmP4Cb"
      }
    },
    {
      "cell_type": "code",
      "source": [
        "print(\"Welcome to your Python adventure! Today, we'll learn how to make your code interactive by getting user input!\")"
      ],
      "outputs": [
        {
          "output_type": "stream",
          "name": "stdout",
          "text": [
            "Welcome to your Python adventure! Today, we'll learn how to make your code interactive by getting user input!\n"
          ]
        }
      ],
      "execution_count": null,
      "metadata": {
        "colab": {
          "base_uri": "https://localhost:8080/"
        },
        "id": "6Tn7s8grP4Cf",
        "outputId": "a2d8c96c-fe92-4812-eec8-5c6d419096c6"
      }
    },
    {
      "cell_type": "markdown",
      "source": [
        "**1. The `input()` Function**\n",
        "\n",
        "Imagine you're writing a program that asks your favorite color. In Python, you can use the `input()` function to achieve this!\n",
        "\n",
        "**- `input(prompt)`:** This function displays a message (`prompt`) on the screen and waits for the user to type something. It then returns the user's input as a string."
      ],
      "metadata": {
        "id": "tLALW98lP4Cg"
      }
    },
    {
      "cell_type": "code",
      "source": [
        "name = input(\"Enter a number \")\n",
        "print(int(name))\n",
        "print(type(name))\n",
        "print(type(int(name)))\n",
        "name = int(name)"
      ],
      "outputs": [
        {
          "output_type": "stream",
          "name": "stdout",
          "text": [
            "Enter a number 4\n",
            "4\n",
            "<class 'str'>\n",
            "<class 'int'>\n"
          ]
        }
      ],
      "execution_count": null,
      "metadata": {
        "colab": {
          "base_uri": "https://localhost:8080/"
        },
        "id": "Ye8TbXDMP4Ch",
        "outputId": "db4be7ab-58de-4947-da22-f80c41953998"
      }
    },
    {
      "cell_type": "markdown",
      "source": [
        "**2.  Practice Time!**\n",
        "\n",
        "**Challenge 1:** Write some code that asks the user for their age and then prints a message based on their age group (e.g., child, teenager, adult)."
      ],
      "metadata": {
        "id": "nDqi96xxP4Ch"
      }
    },
    {
      "cell_type": "code",
      "source": [
        "# Your code here\n",
        "age = int(input(\"Enter your age: \"))\n",
        "if age < 18:\n",
        "    print(\"You are a child\")\n",
        "elif age < 30:\n",
        "    print(\"You are a teenager\")\n",
        "else:\n",
        "    print(\"You are an adult\")"
      ],
      "outputs": [],
      "execution_count": null,
      "metadata": {
        "id": "7wr7Fo2FP4Ci"
      }
    },
    {
      "cell_type": "markdown",
      "source": [
        "**3.  Beyond Strings: Numbers and More!**\n",
        "\n",
        "While `input()` always returns a string, you can convert the user input to other data types if needed.\n",
        "\n",
        "**- `int(input())`:** Converts user input to an integer (whole number)."
      ],
      "metadata": {
        "id": "Q50cTjKKP4Ci"
      }
    },
    {
      "cell_type": "code",
      "source": [
        "number = int(input(\"Enter a number: \"))\n",
        "print(f\"You entered the number: {number}\")"
      ],
      "outputs": [
        {
          "output_type": "stream",
          "name": "stdout",
          "text": [
            "Enter a number: 4\n",
            "You entered the number: 4\n"
          ]
        }
      ],
      "execution_count": null,
      "metadata": {
        "colab": {
          "base_uri": "https://localhost:8080/"
        },
        "id": "oIJSht1FP4Ci",
        "outputId": "7a62b238-8905-4475-f6cd-e1dae7af6b4f"
      }
    },
    {
      "cell_type": "markdown",
      "source": [
        "**- `float(input())`:** Converts user input to a floating-point number (decimal number)."
      ],
      "metadata": {
        "id": "FINqvdheP4Ci"
      }
    },
    {
      "cell_type": "code",
      "source": [
        "weight = float(input(\"Enter your weight (kg): \"))\n",
        "print(f\"Your weight is: {weight} kg\")"
      ],
      "outputs": [
        {
          "output_type": "stream",
          "name": "stdout",
          "text": [
            "Enter your weight (kg): 5\n",
            "Your weight is: 5.0 kg\n"
          ]
        }
      ],
      "execution_count": null,
      "metadata": {
        "colab": {
          "base_uri": "https://localhost:8080/"
        },
        "id": "ELpWm1owP4Cj",
        "outputId": "3db8330f-aae3-4cb6-df1f-b7d092fd9e27"
      }
    },
    {
      "cell_type": "markdown",
      "source": [
        "**4.  Interactive Programs**\n",
        "\n",
        "Now, let's create programs that use user input in fun ways!\n",
        "\n",
        "**Challenge 2:** Write a program that asks the user for two numbers and then calculates their sum, difference, product, and quotient (division)."
      ],
      "metadata": {
        "id": "jDOlcZioP4Cj"
      }
    },
    {
      "cell_type": "code",
      "source": [
        "# Your code here\n"
      ],
      "outputs": [],
      "execution_count": null,
      "metadata": {
        "id": "nL6gRxmsP4Ck"
      }
    },
    {
      "cell_type": "markdown",
      "source": [
        "**Challenge 3:**  Write a program that plays a simple guessing game. Generate a random number between 1 and 10 and keep asking the user to guess the number until they get it right! Provide hints based on their guess (too high or too low)."
      ],
      "metadata": {
        "id": "lTkaB7NcP4Ck"
      }
    },
    {
      "cell_type": "code",
      "source": [
        "# Your code here"
      ],
      "outputs": [],
      "execution_count": null,
      "metadata": {
        "id": "uOzIORMvP4Ck"
      }
    },
    {
      "cell_type": "markdown",
      "source": [
        "**5.  Wrap-up!**\n",
        "\n",
        "Congratulations! You've explored the power of getting user input in Python. Remember, you can use this to create interactive programs that respond to user choices and data!\n",
        "\n",
        "**Bonus Challenge:** Combine user input with conditionals and loops to create a more complex program. Maybe a recipe generator that asks for preferred ingredients and suggests recipes based on the choices!"
      ],
      "metadata": {
        "id": "hqirXjFKP4Ck"
      }
    }
  ],
  "metadata": {
    "colab": {
      "provenance": []
    },
    "kernelspec": {
      "display_name": "Python 3",
      "name": "python3"
    }
  },
  "nbformat": 4,
  "nbformat_minor": 0
}